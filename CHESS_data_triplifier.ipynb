{
 "cells": [
  {
   "cell_type": "markdown",
   "metadata": {
    "ExecuteTime": {
     "end_time": "2021-03-24T18:12:54.268566Z",
     "start_time": "2021-03-24T18:12:54.258921Z"
    }
   },
   "source": [
    "#### Script to materialize CHESS Project data\n",
    "\n",
    "- Originally developed by: Cogan Shimizu (March 2021)\n",
    "- Relies on data located and described at: https://drive.google.com/drive/folders/1XnJ8ErX7aeE3-a2wsPSROZkHpzsbIgaq?usp=sharing"
   ]
  },
  {
   "cell_type": "code",
   "execution_count": 12,
   "metadata": {
    "ExecuteTime": {
     "end_time": "2021-03-23T19:40:11.198894Z",
     "start_time": "2021-03-23T19:40:11.169929Z"
    }
   },
   "outputs": [],
   "source": [
    "import re, time\n",
    "t = time.time()\n",
    "\n",
    "import rdflib\n",
    "from rdflib.namespace import DC, RDF, RDFS, XMLNS, XSD, OWL\n",
    "\n",
    "# Create the graph\n",
    "g = rdflib.Graph()"
   ]
  },
  {
   "cell_type": "code",
   "execution_count": 13,
   "metadata": {
    "ExecuteTime": {
     "end_time": "2021-03-23T19:40:11.326285Z",
     "start_time": "2021-03-23T19:40:11.317663Z"
    }
   },
   "outputs": [
    {
     "data": {
      "text/plain": [
       "<Graph identifier=N7f12dd14405349deaf498e7bb2e9850b (<class 'rdflib.graph.Graph'>)>"
      ]
     },
     "execution_count": 13,
     "metadata": {},
     "output_type": "execute_result"
    }
   ],
   "source": []
  },
  {
   "cell_type": "code",
   "execution_count": 14,
   "metadata": {
    "ExecuteTime": {
     "end_time": "2021-03-23T19:40:11.628426Z",
     "start_time": "2021-03-23T19:40:11.622155Z"
    }
   },
   "outputs": [],
   "source": [
    "namespaces = dict()\n",
    "ns = namespaces # just an alias\n",
    "\n",
    "namespaces[\"chess-ont\"] = rdflib.URIRef(\"https://chess-science.com/ont/#\")\n",
    "namespaces[\"chess-res\"] = rdflib.URIRef(\"https://chess-science.com/res/#\")\n",
    "namespaces[\"cdt\"]       = rdflib.URIRef(\"http://w3id.org/lindt/custom_datatypes#\")\n",
    "namespaces[\"sosa\"]      = rdflib.URIRef(\"http://www.w3.org/ns/sosa/\")\n",
    "namespaces[\"ssn\"]       = rdflib.URIRef(\"http://www.w3.org/ns/ssn/\")"
   ]
  },
  {
   "cell_type": "code",
   "execution_count": 15,
   "metadata": {
    "ExecuteTime": {
     "end_time": "2021-03-23T19:40:12.023267Z",
     "start_time": "2021-03-23T19:40:12.017853Z"
    }
   },
   "outputs": [
    {
     "data": {
      "text/plain": [
       "{'chess-ont': rdflib.term.URIRef('https://chess-science.com/ont/#'),\n",
       " 'chess-res': rdflib.term.URIRef('https://chess-science.com/res/#'),\n",
       " 'cdt': rdflib.term.URIRef('http://w3id.org/lindt/custom_datatypes#'),\n",
       " 'sosa': rdflib.term.URIRef('http://www.w3.org/ns/sosa/'),\n",
       " 'ssn': rdflib.term.URIRef('http://www.w3.org/ns/ssn/')}"
      ]
     },
     "execution_count": 15,
     "metadata": {},
     "output_type": "execute_result"
    }
   ],
   "source": [
    "namespaces"
   ]
  },
  {
   "cell_type": "code",
   "execution_count": 16,
   "metadata": {
    "ExecuteTime": {
     "end_time": "2021-03-23T19:40:13.662465Z",
     "start_time": "2021-03-23T19:40:13.656051Z"
    }
   },
   "outputs": [],
   "source": [
    "# Default namespace, not _super_ useful\n",
    "default_namespace = namespaces[\"chess-ont\"]\n",
    "\n",
    "# Create the prefixes\n",
    "for prefix in namespaces.keys():\n",
    "    g.bind(prefix, namespaces[prefix])\n",
    "\n",
    "# ===========================\n",
    "# Some utility functions\n",
    "def mint_uri(name, prefix=default_namespace):\n",
    "    uri = rdflib.URIRef(prefix+name)\n",
    "\n",
    "    return uri"
   ]
  },
  {
   "cell_type": "code",
   "execution_count": 17,
   "metadata": {
    "ExecuteTime": {
     "end_time": "2021-03-23T19:40:15.053164Z",
     "start_time": "2021-03-23T19:40:15.046924Z"
    }
   },
   "outputs": [],
   "source": [
    "# ===========================\n",
    "# Some sosa/ssn stuff\n",
    "sosa_ssn_properties = dict()\n",
    "ssp = sosa_ssn_properties # just an alias\n",
    "ssp_t = [\n",
    "(\"op\", \"ObservableProperty\"),\n",
    "(\"observedProperty\", \"observedProperty\"),\n",
    "(\"foi\", \"FeatureOfInterest\"),\n",
    "(\"hsr\", \"hasSimpleResult\"),\n",
    "(\"o\", \"Observation\"),\n",
    "(\"oc\", \"ObservationCollection\"),\n",
    "(\"hm\", \"hasMember\"),\n",
    "(\"pt\", \"phenomenomTime\")\n",
    "]\n",
    "for x,y in ssp_t:\n",
    "    ssp[x] = mint_uri(y)"
   ]
  },
  {
   "cell_type": "code",
   "execution_count": 25,
   "metadata": {
    "ExecuteTime": {
     "end_time": "2021-03-24T18:27:36.398163Z",
     "start_time": "2021-03-24T18:27:36.359447Z"
    }
   },
   "outputs": [
    {
     "name": "stdout",
     "output_type": "stream",
     "text": [
      "Successfully loaded file: /Users/ryanmcgranaghan/Documents/NSF_CHESS/data/chess_data_annotated_reduced.csv.\n"
     ]
    }
   ],
   "source": [
    "\n",
    "# ===========================\n",
    "# Some datatypes\n",
    "datatypes = dict()\n",
    "dts = datatypes # just an alias\n",
    "dts[\"ucum\"] = mint_uri(\"ucum\",ns[\"cdt\"])\n",
    "\n",
    "# ===========================\n",
    "# Load in the raw data\n",
    "filename = \"/Users/ryanmcgranaghan/Documents/NSF_CHESS/data/chess_data_annotated_reduced.csv\"\n",
    "# filename = \"chess_data_abbrv.csv\"\n",
    "header = \"\"\n",
    "lines = list()\n",
    "with open(filename) as f:\n",
    "    header, *lines = f.readlines()\n",
    "    print(\"Successfully loaded file: \" + filename + \".\")\n"
   ]
  },
  {
   "cell_type": "code",
   "execution_count": 20,
   "metadata": {
    "ExecuteTime": {
     "end_time": "2021-03-23T19:40:25.383565Z",
     "start_time": "2021-03-23T19:40:25.276765Z"
    }
   },
   "outputs": [
    {
     "name": "stdout",
     "output_type": "stream",
     "text": [
      "Finished \"singleton\" instances.\n",
      "Begin processing 99 records.\n"
     ]
    }
   ],
   "source": [
    "# ===========================\n",
    "# Process the header\n",
    "labels = header.strip().split(\",\")\n",
    "\n",
    "# Create URIs for the observable properties\n",
    "ops_str = [re.sub(\"\\(.*?\\)\",\"\",x).strip().replace(\" \", \"_\") for x in labels[1:]]\n",
    "ops_uri = [mint_uri(op_str, ns[\"chess-res\"]) for op_str in ops_str]\n",
    "for op_uri in ops_uri:\n",
    "    g.add((\n",
    "        op_uri,\n",
    "        RDF.type,\n",
    "        ssp[\"op\"]))\n",
    "\n",
    "# Create some URIs for the observation posts\n",
    "# observers = labels[10:]\n",
    "# for observer in observers:\n",
    "#     # Strip off parens, whitespace, replace spaces\n",
    "#     observer = observer[:-3].strip().replace(\" \", \"_\")\n",
    "#     g.add(\n",
    "#         (mint_uri(observer),\n",
    "#         RDF.type,\n",
    "#         mint_uri(\"ObservationPost\")))\n",
    "\n",
    "# Get the units\n",
    "units = list()\n",
    "for label in labels[1:]:\n",
    "    match = re.search(\"\\(.*?\\)\",label)\n",
    "    unit = match.group()[1:-1]\n",
    "    units.append(unit)\n",
    "\n",
    "print(\"Finished \\\"singleton\\\" instances.\")\n",
    "\n",
    "# ===========================\n",
    "# Materialize!\n",
    "'''Time (UT),Vx GSE (km/s),Vy GSE (km/s),Vz GSM (km/s),Bx GSM (nT),\n",
    "   By GSM (nT),Bz GSM (nT),p_protons (#/cm^3),SMR (nT),SML (nT),\n",
    "   Sullivan GIC (A),Paradise GIC (A),Bullrun GIC (A),Montgomery GIC (A),\n",
    "   Rutherford GIC (A),Shelby GIC (A),Weakley GIC (A),Widowscreek1 GIC (A)'''\n",
    "print(\"Begin processing\", len(lines),\"records.\")\n",
    "row = 0\n",
    "for line in lines:\n",
    "    values = line.split(\",\")\n",
    "    # Create an Observable Collection for the row\n",
    "    oc_str = \"oc\" + str(row)\n",
    "    oc_uri = mint_uri(oc_str, ns[\"chess-res\"])\n",
    "    g.add((\n",
    "        oc_uri,\n",
    "        RDF.type,\n",
    "        ssp[\"oc\"]))\n",
    "\n",
    "    # Set the phenomenom time for the row\n",
    "    datetime = values[0]\n",
    "    g.add((\n",
    "        oc_uri,\n",
    "        ssp[\"pt\"],\n",
    "        rdflib.Literal(datetime, datatype=XSD.datetime)))\n",
    "\n",
    "    # Create the Observations for the collection\n",
    "    obs_n = 0\n",
    "    for obs_value in values[1:10]:\n",
    "        # The observation itself\n",
    "        obs_str = oc_str + \".obs\" + str(obs_n)\n",
    "        obs_uri = mint_uri(obs_str,ns[\"chess-res\"])\n",
    "        g.add((\n",
    "            obs_uri,\n",
    "            RDF.type,\n",
    "            ssp[\"o\"]))\n",
    "\n",
    "        # Link the observation to the observation collection\n",
    "        g.add((\n",
    "            oc_uri,\n",
    "            ssp[\"hm\"],\n",
    "            obs_uri))\n",
    "\n",
    "        # Link the observation to the observable property\n",
    "        g.add((\n",
    "            obs_uri,\n",
    "            ssp[\"observedProperty\"],\n",
    "            ops_uri[obs_n]))\n",
    "\n",
    "        # Link the observable property to its simple result\n",
    "        simple_result_str = obs_value + \" \" + units[obs_n]\n",
    "        simple_result_literal = rdflib.Literal(simple_result_str, datatype=dts[\"ucum\"])\n",
    "        g.add((\n",
    "            obs_uri,\n",
    "            ssp[\"hsr\"],\n",
    "            simple_result_literal))\n",
    "        obs_n += 1\n",
    "\n",
    "    # increment row\n",
    "    row += 1\n"
   ]
  },
  {
   "cell_type": "markdown",
   "metadata": {
    "ExecuteTime": {
     "end_time": "2021-03-24T18:12:08.614047Z",
     "start_time": "2021-03-24T18:12:08.590345Z"
    }
   },
   "source": [
    "#### Below explore the graph: visualization, extension, ability to query\n",
    "- g.value()"
   ]
  },
  {
   "cell_type": "code",
   "execution_count": null,
   "metadata": {},
   "outputs": [],
   "source": []
  }
 ],
 "metadata": {
  "kernelspec": {
   "display_name": "Python 3",
   "language": "python",
   "name": "python3"
  },
  "language_info": {
   "codemirror_mode": {
    "name": "ipython",
    "version": 3
   },
   "file_extension": ".py",
   "mimetype": "text/x-python",
   "name": "python",
   "nbconvert_exporter": "python",
   "pygments_lexer": "ipython3",
   "version": "3.6.10"
  }
 },
 "nbformat": 4,
 "nbformat_minor": 4
}
