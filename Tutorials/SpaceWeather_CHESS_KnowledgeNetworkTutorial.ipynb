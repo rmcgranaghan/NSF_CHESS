{
 "cells": [
  {
   "cell_type": "markdown",
   "metadata": {
    "slideshow": {
     "slide_type": "slide"
    }
   },
   "source": [
    "# A tutorial on understanding *and building* knowledge graphs/networks\n",
    "\n",
    "##### and an uncommonly illustrative example\n",
    "\n",
    "### <span style=\"background-color: #FFDD4A\">The Convergence Hub for the Exploration of Space Science (CHESS)</span>\n",
    "###### <span style=\"background-color: #FFDD4A\">towards a</span>\n",
    "### <span style=\"background-color: #FFDD4A\">SPACE WEATHER OPEN KNOWLEDGE NETWORK!</span>\n",
    "      "
   ]
  },
  {
   "cell_type": "markdown",
   "metadata": {},
   "source": [
    "To Do:\n",
    "1. Enrich the CHESS example with the lessons I learned from Phase I interactions to create an ontology\n",
    "2. Complete the simple steps with links to the technologies\n",
    "3. Make it uncommonly useful"
   ]
  },
  {
   "cell_type": "markdown",
   "metadata": {},
   "source": [
    "The purpose of this script is to be an interactive guide for *linking* -- both linking data through [knowledge networks](https://www.nitrd.gov/news/Open-Knowledge-Network-Workshop-Report-2018.aspx) and linking communities (through methodology transfer). This Python Notebook serves as an illustration of a new mode of linking through technologies. The objective is to **foster creation of the collaborative infrastructure required to make progress on our grand space science challenges**. \n",
    "\n",
    "This is accomplished by examining a powerful use case -- space weather impacts on the electric power grid, or geomagnetically induced currentcs (GIC). We reveal progress and future directions of the National Science Foundation [Convergence Accelerator](https://www.nsf.gov/od/oia/convergence-accelerator/index.jsp) project: [The Convergence Hub for the Exploration of Space Science (CHESS)](https://www.nsf.gov/od/oia/convergence-accelerator/Award%20Listings/Track%20A%20Abstracts/A-7152-McGranaghan-ASTRA.pdf).  \n",
    "\n",
    "This notebook has been written for both space weather domain experts and for those unfamiliar with space weather terminology and data. To achieve this, it provides rich descriptive and metadata so all can use it and to facilitate scientist-data scientist interaction. Indeed, it is a guide to anyone who sees the value in structuring data in a more intelligent and discoverable way. \n",
    "\n",
    "We encourage all contributions to this work.\n",
    "\n"
   ]
  },
  {
   "cell_type": "markdown",
   "metadata": {
    "heading_collapsed": true
   },
   "source": [
    "### Rules of usage\n"
   ]
  },
  {
   "cell_type": "markdown",
   "metadata": {
    "hidden": true
   },
   "source": [
    "1. Document all development\n",
    "    - All code and progress in this script must be *usable* to anyone that picks it up\n",
    "2. Crystallize knowledge after each development \n",
    "    - Attempt to define lessons learned and to share those in a way that will allow others to pick up where you left off\n",
    "3. *Extend this list as new rules emerge*"
   ]
  },
  {
   "cell_type": "markdown",
   "metadata": {},
   "source": [
    "### The 'What' and 'How' "
   ]
  },
  {
   "cell_type": "markdown",
   "metadata": {},
   "source": [
    "We begin with an exploration of just how powerful OKNs can be and the ubiquity of their need across society. \n",
    "\n",
    "\n",
    "OKNs provide the **ability to link disparate information by traversing links across the network** and by deducing\n",
    "linkages among entities. \n",
    "\n",
    "With an OKN researchers could develop: \n",
    "- More robust and efficient approaches to answering questions\n",
    "- More expressive frameworks to capture knowledge\n",
    "- More natural interfaces to access that knowledge\n",
    "\n",
    "[OPEN KNOWLEDGE NETWORK: SUMMARY OF THE BIG DATA INTERAGENCY WORKING GROUP (IWG) WORKSHOP OCTOBER 4–5, 2017](https://www.nitrd.gov/nitrdgroups/index.php?title=Open_Knowledge_Network#Presentations)\n",
    "\n",
    "Below we first introduce and motivate the concept of an OKN with specific exampless. Then, we detail the steps to create an OKN. "
   ]
  },
  {
   "cell_type": "markdown",
   "metadata": {
    "heading_collapsed": true
   },
   "source": [
    "#### Linking Data and The OKN"
   ]
  },
  {
   "cell_type": "markdown",
   "metadata": {
    "hidden": true
   },
   "source": [
    "![Metaphor of trees](figures/Trees-and-classification.png)"
   ]
  },
  {
   "cell_type": "markdown",
   "metadata": {
    "hidden": true
   },
   "source": [
    "Most of our knowledge is structured in the tree format.\n",
    "\n"
   ]
  },
  {
   "cell_type": "markdown",
   "metadata": {
    "heading_collapsed": true,
    "hidden": true
   },
   "source": [
    "###### Example: NASA SMD Structuring of Knowledge\n"
   ]
  },
  {
   "cell_type": "markdown",
   "metadata": {
    "hidden": true
   },
   "source": [
    "<img src=\"figures/NASA_SMD_code600_tree.png\" alt=\"drawing\" width=\"500\"/>\n",
    "\n",
    "... and further\n",
    "\n",
    "\n",
    "<img src=\"figures/NASA_SMD_code670_tree.png\" alt=\"drawing\" width=\"500\"/>\n"
   ]
  },
  {
   "cell_type": "markdown",
   "metadata": {
    "heading_collapsed": true,
    "hidden": true
   },
   "source": [
    "###### Evolution of Knowledge Structuring"
   ]
  },
  {
   "cell_type": "markdown",
   "metadata": {
    "hidden": true
   },
   "source": [
    "![Weaver](figures/Weaver_PeriodsOfComplexity.png)\n",
    "\n",
    "1-2 items connected --> Realization that more than a few elements exist, but disconnected/disorganized --> Understanding that those many elements are complexly connected\n",
    "\n",
    "(explore further: [Manuel Lima presentation on the power of networks](https://www.brainpickings.org/2012/01/16/manuel-lima-the-power-of-networks/))"
   ]
  },
  {
   "cell_type": "markdown",
   "metadata": {
    "hidden": true
   },
   "source": [
    "Linking and networks are the responses to an increasingly complex world\n",
    "\n",
    "\n",
    "No longer can Heliophysics be kept separate from e.g., Earth Science\n",
    "\n",
    "![NASA Science Mission Directorates](figures/NASA_SMDs.png)\n",
    "\n"
   ]
  },
  {
   "cell_type": "markdown",
   "metadata": {
    "heading_collapsed": true,
    "hidden": true
   },
   "source": [
    "###### Wikipedia"
   ]
  },
  {
   "cell_type": "markdown",
   "metadata": {
    "hidden": true
   },
   "source": [
    "Wikipedia is a powerful example\n",
    "\n",
    "[Wikiverse - 3D visualization of Wikipedia](https://www.wikiverse.io/)\n",
    "\n",
    "![Wikiverse still frame](figures/WikiVerse.png)\n"
   ]
  },
  {
   "cell_type": "markdown",
   "metadata": {
    "heading_collapsed": true,
    "hidden": true
   },
   "source": [
    "###### What is a knowledge network? "
   ]
  },
  {
   "cell_type": "markdown",
   "metadata": {
    "hidden": true
   },
   "source": [
    "A Knowledge Network is a graph-based way to structure data that allows reasoning about entities, attributes and relationships [Kejriwal, 2019](link.springer.com/book/10.1007%2F978-3-030-12375-8)\n",
    "\n",
    "\n",
    "Every time you use Google search you are accessing one of the world's largest and most successful knowledge networks\n",
    "\n",
    "![Google KN demonstration](figures/CHESS_KNintro.png)\n",
    "\n",
    "\n",
    "Imagine what Earth and space science would look like if we could discover like this?\n"
   ]
  },
  {
   "cell_type": "markdown",
   "metadata": {
    "heading_collapsed": true,
    "hidden": true
   },
   "source": [
    "###### What must data look like to create structures like this? "
   ]
  },
  {
   "cell_type": "markdown",
   "metadata": {
    "ExecuteTime": {
     "end_time": "2020-12-04T21:24:20.038448Z",
     "start_time": "2020-12-04T21:24:20.025208Z"
    },
    "hidden": true
   },
   "source": [
    "Formatting the data:\n",
    "![triple representation](figures/triple_representation.png)"
   ]
  },
  {
   "cell_type": "markdown",
   "metadata": {
    "hidden": true
   },
   "source": [
    "How does wikipedia structure the data? Through a knowledge network: [DBpedia](https://wiki.dbpedia.org/about)\n",
    "\n"
   ]
  },
  {
   "cell_type": "markdown",
   "metadata": {},
   "source": [
    "#### Practical steps to building a knowledge network: \n"
   ]
  },
  {
   "cell_type": "markdown",
   "metadata": {},
   "source": [
    "We have provided a clarion call for OKNs, yet the steps to create one are not clear. \n",
    "\n",
    "Below we lay out those steps and, importantly, the technologies that are needed and available now to achieve each step. \n",
    "\n",
    "The key challenge is to determine how to semantically structure information so that it is interoperable (simply put: using the same terminology and mapping between terminologies).  "
   ]
  },
  {
   "cell_type": "markdown",
   "metadata": {},
   "source": [
    "###### 1. Define a use case and determine the *notion* that you want to model with the knowledge network (e.g., 'solar event to power grid impact')"
   ]
  },
  {
   "cell_type": "markdown",
   "metadata": {},
   "source": [
    "Tools for step one: \n",
    "- The ['user' interview](https://www.designkit.org/methods/2): determine what is most important and distill what purpose the knowledge network will serve as well as *who* it will serve\n"
   ]
  },
  {
   "cell_type": "markdown",
   "metadata": {},
   "source": [
    "###### 2. Understand the *competency questions* (What questions must the network be able to answer? What questions will users ask of the network?)"
   ]
  },
  {
   "cell_type": "markdown",
   "metadata": {},
   "source": [
    "Tools for step two: \n",
    "- Competency questions design and iteration: [Competency Questions (CQs)](https://medium.com/@tishchungoora/ontology-competency-questions-3d213eb08d33) are natural language questions outlining and constraining the scope of knowledge represented by an ontology\n"
   ]
  },
  {
   "cell_type": "markdown",
   "metadata": {},
   "source": [
    "###### 3. Diagram the ENTITIES and RELATIONSHIPS\n"
   ]
  },
  {
   "cell_type": "markdown",
   "metadata": {},
   "source": [
    "Tools for step three: \n",
    "- Some tool for online whiteboarding, like [Miro](miro.com/) or [Visio](https://en.wikipedia.org/wiki/Microsoft_Visio), to just get the entities and relations mapped out. The full development team AND users must be involved in this iterative process.\n",
    "- Draw up the finalized whiteboarded ontological patterns with a digital tool like - [Protégé](https://protege.stanford.edu/) - a free, open-source ontology editor and framework for building intelligent systems. This will help you move your whiteboarded model to a machine-readable format, such as...\n",
    "- [Resource Description Framework (RDF)](https://en.wikipedia.org/wiki/Resource_Description_Framework) - framework for modeling metadata information\n",
    "- [Web Ontology Language (OWL)](https://www.w3.org/OWL/) - a Semantic Web language designed to represent rich and complex knowledge about things, groups of things, and relations between things\n",
    "- After the ontological model is in machine readable format, next will be to add data to the knowledge graph. [GraphDB](https://graphdb.ontotext.com/) - a Semantic Graph Database/RDF TripleStore; very useful for visualization and exploration\n",
    "- Then we need to know and utilize a query language to search over the triple store, e.g., [SPARQL](https://www.w3.org/TR/rdf-sparql-query/)\n",
    "- Finally, document the ontology with, e.g., [WIzard for DOCumenting Ontologies (WIDOCO)](https://github.com/dgarijo/Widoco) - tool to publish and create an enriched and customized documentation of your ontology\n",
    "\n"
   ]
  },
  {
   "cell_type": "markdown",
   "metadata": {},
   "source": [
    "###### 4. Enrich with ontology/terms used in the domain\n"
   ]
  },
  {
   "cell_type": "markdown",
   "metadata": {},
   "source": [
    "Tools for step four:\n",
    "- Ontology repositories such as the Earth Science Information Partners' [Community Ontology Repository](http://cor.esipfed.org/) (find out what has already been done and attempt to harmonize/ontology match)\n"
   ]
  },
  {
   "cell_type": "markdown",
   "metadata": {},
   "source": [
    "###### 5. Refine"
   ]
  },
  {
   "cell_type": "markdown",
   "metadata": {},
   "source": [
    "*This step is never complete. Like all meaningful things, the process is circular, feeding back on itself and adapting. "
   ]
  },
  {
   "cell_type": "markdown",
   "metadata": {},
   "source": [
    "### An example: [The Convergence Hub for the Exploration of Space Science (CHESS) Project](https://www.nsf.gov/od/oia/convergence-accelerator/Award%20Listings/Track%20A%20Abstracts/A-7152-McGranaghan-ASTRA.pdf)\n",
    "\n"
   ]
  },
  {
   "cell_type": "markdown",
   "metadata": {
    "ExecuteTime": {
     "end_time": "2020-12-04T21:29:25.913889Z",
     "start_time": "2020-12-04T21:29:25.909588Z"
    },
    "heading_collapsed": true
   },
   "source": [
    "#### Why an OKN?"
   ]
  },
  {
   "cell_type": "markdown",
   "metadata": {
    "ExecuteTime": {
     "end_time": "2020-12-04T21:29:25.913889Z",
     "start_time": "2020-12-04T21:29:25.909588Z"
    },
    "hidden": true
   },
   "source": [
    "Three barriers hold back a space weather understanding commensurate with society's needs:\n",
    "1. The lack of a cohesive community, owing to the wide variety of subject matter experts\n",
    "required;\n",
    "2. The lack of effective data sharing, coordination, and analysis (e.g., data science) to\n",
    "leverage existing resources and knowledge efficiently; and\n",
    "3. The diversity of physically dominant processes in each section of the space weather\n",
    "environment, making it difficult to relate various models and observations.\n",
    "\n",
    "\n",
    "We will address the root cause of these barriers, namely that large volumes of data can often be found in communities that are disconnected from each other, yet study the effects of essentially the same phenomena. We will focus on one of the most severe areas threatened and impacted by space weather - the electric power grid.\n",
    "\n",
    "\n",
    "We will create a cohesive, inclusive, cross-cutting, digitally-empowered community for a flourishing electric power grid by developing next-generation data technologies that can be used by each layer in the **‘Geomagnetic Disturbance (GMD) Information Flow Pipeline’** for space weather impact on the power grid.\n",
    "\n",
    "![GMD information flow](figures/CHESS_GMD_InformationFlow_v2.png)"
   ]
  },
  {
   "cell_type": "markdown",
   "metadata": {},
   "source": [
    "#### The Prototype solution"
   ]
  },
  {
   "cell_type": "markdown",
   "metadata": {
    "heading_collapsed": true
   },
   "source": [
    "##### **<span style=\"background-color: #FC3D21\">Step One</span>**"
   ]
  },
  {
   "cell_type": "markdown",
   "metadata": {
    "hidden": true
   },
   "source": [
    "An **[Open Knowledge Network (OKN)](https://www.nitrd.gov/news/Open-Knowledge-Network-Workshop-Report-2018.aspx)** that semantically links concepts and data that span the relevant disciplines of space weather and the areas that are impacted. \n",
    "\n",
    "Our OKN will provide resources to each component in the GMD Information Flow Pipeline, allowing the relevant data, previously dispersed and disconnected, to be readily searched and used (we define **usable** as accessible, labeled structured, and organized).\n",
    "\n",
    "![the technology](figures/CHESS_Dashboard_MoneyChart.png)"
   ]
  },
  {
   "cell_type": "markdown",
   "metadata": {
    "heading_collapsed": true
   },
   "source": [
    "##### **<span style=\"background-color: #FC3D21\">Step Two</span>**"
   ]
  },
  {
   "cell_type": "markdown",
   "metadata": {
    "hidden": true
   },
   "source": [
    "What are competency questions? Competency Questions (CQs) are natural language questions outlining and constraining the scope of knowledge represented by an ontology\n",
    "\n",
    "\n",
    "First cut at questions for the CHESS knowledge graph and (*and realization of the query*):\n",
    "1. What information are available to me to look at (and what do they mean)?\n",
    "    - *Table with links to available data and model sources for solar wind, geomagnetic activity indices, and nearby ground-based magnetometer information for the requesting entity (e.g., utility)*\n",
    "2. What are the relevant geomagnetic conditions on the Earth for a given time?\n",
    "    - *Plot (time series centered at requested timestamp) showing the global and regional geomagnetic indices, e.g., the Kp index and local time-dependent SuperMAG indices*\n",
    "    - *Plot (time series centered at requested timestamp) showing local magnetic field conditions, e.g.,, magnetometer readings from nearest three magnetometers or magnetometers covering the utility’s footprint*\n",
    "3. What were the solar wind conditions at the time of a given GIC observation? \n",
    "    - *Plot (time series centered at requested timestamp) showing the solar wind variables*\n",
    "4. What were the geomagnetic activity indicator levels at the time of a given GIC observation? \n",
    "    - *Plot (time series of geomagnetic indices and corresponding time series of GIC data centered at requested timestamp with time of GIC observation identified)*\n",
    "5. What is the attribution of the GIC observations?\n",
    "    - *Plot (time series of GIC levels up to current time) with shaded regions showing results of a classification algorithm that attributes the data point to: 1) space weather; 2) utility action (e.g., element taken offline); 3) unknown; 4) other (e.g., animal)*\n",
    "6. Is this GIC node at risk of exceeding a threshold GIC level in the next X time?\n",
    "    - *Plot (time series of GIC levels up to current time and predicted levels for next Y times) with specified threshold identified* \n",
    "7. (future) What is the risk of solar weather impacts to me in the next 30 minutes, 1 hour, 12 hours, etc. and can I set an alert?\n",
    "    - *Plot (time series centered at requested timestamp) showing the GIC prediction with markers for the requested prediction times and an indication of threat level based on specified threshold (low, medium, high)* \n",
    "8. (future) Do I need to shut down a vulnerable transformer? What impact will that cascading current have on the rest of my grid?\n",
    "    - *Plot (time series centered at requested timestamp) showing the transformer power flow calculations and an indication of threat level based on specified threshold (low, medium, high)*"
   ]
  },
  {
   "cell_type": "markdown",
   "metadata": {},
   "source": [
    "##### **<span style=\"background-color: #FC3D21\">Step Three</span>**"
   ]
  },
  {
   "cell_type": "markdown",
   "metadata": {},
   "source": [
    "We first spent six months, beginning with an in-person two-day intensive workshop to brainstorm, identify, and refine the ENTITIES and RELATIONSHIPS with ontological engineers and semantic technology experts. This kind of interaction is inextricable from the process. We designed a flow of how these interactions should be run:\n",
    "![]()"
   ]
  },
  {
   "cell_type": "markdown",
   "metadata": {},
   "source": [
    "These domain-ontological/data science engineer interactions are inextricable from the process of producing a KG, so we detail them here to guide your own efforts...\n",
    "\n",
    "<span style=\"background-color: #FC3D21\">Write about interactions here</span>\n"
   ]
  },
  {
   "cell_type": "markdown",
   "metadata": {},
   "source": [
    "A critical point is that these interactions must be regular and sustained. \n",
    "\n",
    "The result was an ontology, which we detail below. \n",
    "\n",
    "**We designed the ontology using a ['modular' approach](ceur-ws.org/Vol-2459/paper4.pdf)**\n",
    "Read the [full paper development of the CHESS ontology](https://arxiv.org/abs/2009.12285)\n",
    "\n",
    "\n",
    "    1. Data Transformation Pattern: allows for the description of data-driven workflows\n",
    "    2. Simulation Activity Module: instance of the Data Transformation Pattern for algorithms and simulations\n",
    "    3. Full CHESS ontology\n",
    "\n",
    "\n",
    "**Core concept: Data Transformation Pattern**\n",
    "\n",
    "![data transformation pattern](figures/CHESS_ontology1.png)\n",
    "\n",
    "- The data participates in ia transformation via roles\n",
    "- The data do not represent actual data, but points to the data location (e.g., a Universal Record Indicator)\n",
    "\n",
    "<span style=\"background-color: #FFFF00\">Yellow boxes</span> denote classes. <span style=\"background-color: #427AA1\">Blue boxes</span> with dashed outline denote external patterns or modules. <span style=\"background-color: #B66BA3\">Purple boxes</span> denote controlled vocabularies. Solid arrows denote object or date properties,while open arrows denote the subclass relationship.\n",
    "\n",
    "\n",
    "\n",
    "**Specializing the pattern: Simulation Activity Module**\n",
    "\n",
    "![simulation activity module](figures/CHESS_ontology2.png)\n",
    "\n",
    "- Created from the Data Transformation Pattern but implements an algorithm\n",
    "\n",
    "**Assembling the pieces for Space Weather: the full modular ontology**\n",
    "\n",
    "![full space weather ontology](figures/CHESS_ontology3.png)\n",
    "\n",
    "- The assembled ontology ties together Activities, such as simulations or interpretations; Agents, such as power grid operators; SolarEvents, such as coronal mass ejections; and Responses, such as simulate, monitor, or update\n",
    "- New activities are added to the Simulation Activity: Monitor and Interpretation"
   ]
  },
  {
   "cell_type": "markdown",
   "metadata": {
    "heading_collapsed": true
   },
   "source": [
    "##### **<span style=\"background-color: #FC3D21\">Step Four</span>**"
   ]
  },
  {
   "cell_type": "markdown",
   "metadata": {
    "hidden": true
   },
   "source": [
    "We are working to harmonize the CHESS ENTITIES and RELATIONSHIPS with those used by metadata standards in the Heliophysics and sensor/observation communities. \n",
    "\n",
    "There are two major standards/ontologies to link to: \n",
    "1. [The Space Physics Archive Search and Extract (SPASE) Data Model](https://spase-group.org/)\n",
    "2. [The Semantic Sensor Network Ontology](https://www.w3.org/TR/vocab-ssn/)"
   ]
  },
  {
   "cell_type": "markdown",
   "metadata": {
    "heading_collapsed": true
   },
   "source": [
    "##### **<span style=\"background-color: #FC3D21\">Step Five</span>**"
   ]
  },
  {
   "cell_type": "markdown",
   "metadata": {
    "hidden": true
   },
   "source": [
    "Next steps are to further develop the modules left as stubs, namely Observation Data, which has obvious connections to the [SSN/SOSA](https://www.w3.org/TR/vocab-ssn/) and the Monitoring activity. We will also be exploring deployment and integration of real world data that the CHESS team has curated."
   ]
  },
  {
   "cell_type": "markdown",
   "metadata": {
    "hidden": true
   },
   "source": []
  },
  {
   "cell_type": "markdown",
   "metadata": {
    "heading_collapsed": true
   },
   "source": [
    "### How do you benefit from this work and contribute to it? \n"
   ]
  },
  {
   "cell_type": "markdown",
   "metadata": {
    "hidden": true
   },
   "source": [
    "###### Calls to action\n",
    "\n",
    "    \n",
    "    "
   ]
  },
  {
   "cell_type": "markdown",
   "metadata": {
    "hidden": true
   },
   "source": [
    "\n",
    "1. Play around with this script -- i.e., ***ignite*** domain integration and new connections\n",
    "    - **Spend 15 minutes with this script to explore actually building a knowledge network**\n",
    "    - \n",
    "    \n",
    "    \n",
    "\n",
    "\n",
    "2. Learn more...\n",
    "    - Best resources for knowledge capture, structuring, graphs/networks\n",
    "        - [Domain-Specific Knowledge Graph Construction](https://link.springer.com/book/10.1007%2F978-3-030-12375-8)\n",
    "        - [OPEN KNOWLEDGE NETWORK: SUMMARY OF THE BIG DATA INTERAGENCY WORKING GROUP (IWG) WORKSHOP OCTOBER 4–5, 2017](https://www.nitrd.gov/nitrdgroups/index.php?title=Open_Knowledge_Network#Presentations)\n",
    "    "
   ]
  },
  {
   "cell_type": "code",
   "execution_count": null,
   "metadata": {
    "hidden": true
   },
   "outputs": [],
   "source": []
  }
 ],
 "metadata": {
  "kernelspec": {
   "display_name": "Python 3",
   "language": "python",
   "name": "python3"
  },
  "language_info": {
   "codemirror_mode": {
    "name": "ipython",
    "version": 3
   },
   "file_extension": ".py",
   "mimetype": "text/x-python",
   "name": "python",
   "nbconvert_exporter": "python",
   "pygments_lexer": "ipython3",
   "version": "3.6.10"
  }
 },
 "nbformat": 4,
 "nbformat_minor": 2
}
