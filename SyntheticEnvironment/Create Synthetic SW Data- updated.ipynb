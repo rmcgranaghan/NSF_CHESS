{
 "cells": [
  {
   "cell_type": "markdown",
   "metadata": {},
   "source": [
    "#### As part of the CHESS workshop, we will be simulating a space weather event. We model this event on the 2003 Halloween storm, and first obtain the relevant \"ground truth\" data for that time period. \n",
    "\n",
    "#### The data needs to be at a 1 minute temporal resolution to facilitate model runs for the workshop\n",
    "\n"
   ]
  },
  {
   "cell_type": "code",
   "execution_count": 1,
   "metadata": {},
   "outputs": [],
   "source": [
    "from netCDF4 import Dataset\n",
    "import numpy as np\n",
    "import matplotlib.pyplot as plt\n",
    "import pandas as pd\n",
    "from pathlib import Path\n",
    "import datetime\n",
    "import xarray"
   ]
  },
  {
   "cell_type": "markdown",
   "metadata": {},
   "source": [
    "The data files we are now working with are obtained from:\n",
    "1. [Solar Wind Data (1 minute data)](https://spdf.gsfc.nasa.gov/pub/data/omni/high_res_omni/sc_specific/ace_min_b2003.txt)\n",
    "2. [Kp, Ap and F10.7 index (hourly data)](ftp://ftp.ngdc.noaa.gov/STP/GEOMAGNETIC_DATA/INDICES/KP_AP)\n",
    "3. [AE index (minute data)](ftp://ftp.ngdc.noaa.gov/STP/GEOMAGNETIC_DATA/INDICES/AURORAL_ELECTROJET)\n",
    "\n",
    "Since the temporal resolutions vary from file to file, we start with the data with the highest resolution and merge in other datasets"
   ]
  },
  {
   "cell_type": "code",
   "execution_count": 2,
   "metadata": {},
   "outputs": [],
   "source": [
    "data_folder = Path(\"../data/synthetic_sw_data\")\n",
    "ace_data_file = data_folder / \"ace_min_b2003.txt\"\n",
    "f107_kp_ap_file = data_folder / \"f107_kp_2003\"\n",
    "ae_file = data_folder / \"ae_2003_minute.txt\""
   ]
  },
  {
   "cell_type": "code",
   "execution_count": 3,
   "metadata": {},
   "outputs": [],
   "source": [
    "# Reader solar wind data into a list\n",
    "with open(ace_data_file, 'r') as f:\n",
    "    lines = f.readlines()\n",
    "\n",
    "# Parse out fields to create a pandas dataframe\n",
    "year, day, hour, minute = [], [], [], []\n",
    "scalar_b, bx, by, bz = [], [], [], []\n",
    "sw_plasma_temp, sw_plasma_density, sw_plasma_speed = [], [], []\n",
    "\n",
    "for l in lines:\n",
    "    quantities = l.strip().split()\n",
    "    \n",
    "    year.append(int(quantities[0]))\n",
    "    day.append(int(quantities[1]))\n",
    "    hour.append(int(quantities[2]))\n",
    "    minute.append(int(quantities[3]))\n",
    "    \n",
    "    scalar_b.append(np.float32(quantities[11]))\n",
    "    bx.append(np.float32(quantities[12]))\n",
    "    by.append(np.float32(quantities[13]))\n",
    "    bz.append(np.float32(quantities[14]))\n",
    "    \n",
    "    sw_plasma_temp.append(np.float32(quantities[27]))\n",
    "    sw_plasma_density.append(np.float32(quantities[26]))\n",
    "    sw_plasma_speed.append(np.float32(quantities[22]))"
   ]
  },
  {
   "cell_type": "code",
   "execution_count": 4,
   "metadata": {},
   "outputs": [],
   "source": [
    "# Convert time variables into a convenient/usable datetime format\n",
    "dt = [datetime.datetime.strptime(\"{} {}\".format(y, d), '%Y %j') + \n",
    "            datetime.timedelta(hours=hh) + datetime.timedelta(minutes=mm) \n",
    "            for y, d, hh, mm in zip(year, day, hour, minute)]"
   ]
  },
  {
   "cell_type": "code",
   "execution_count": 5,
   "metadata": {},
   "outputs": [],
   "source": [
    "# Create solar wind data dataframe\n",
    "data = {'datetime':dt, \n",
    "        'scalar_b':scalar_b, \n",
    "        'bx':bx, 'by':by, 'bz':bz, \n",
    "        'sw_plasma_temp':sw_plasma_temp, \n",
    "        'sw_plasma_density':sw_plasma_density, \n",
    "        'sw_plasma_speed':sw_plasma_speed}\n",
    "df_swd = pd.DataFrame(data=data)"
   ]
  },
  {
   "cell_type": "code",
   "execution_count": 6,
   "metadata": {},
   "outputs": [
    {
     "data": {
      "text/html": [
       "<div>\n",
       "<style scoped>\n",
       "    .dataframe tbody tr th:only-of-type {\n",
       "        vertical-align: middle;\n",
       "    }\n",
       "\n",
       "    .dataframe tbody tr th {\n",
       "        vertical-align: top;\n",
       "    }\n",
       "\n",
       "    .dataframe thead th {\n",
       "        text-align: right;\n",
       "    }\n",
       "</style>\n",
       "<table border=\"1\" class=\"dataframe\">\n",
       "  <thead>\n",
       "    <tr style=\"text-align: right;\">\n",
       "      <th></th>\n",
       "      <th>datetime</th>\n",
       "      <th>scalar_b</th>\n",
       "      <th>bx</th>\n",
       "      <th>by</th>\n",
       "      <th>bz</th>\n",
       "      <th>sw_plasma_temp</th>\n",
       "      <th>sw_plasma_density</th>\n",
       "      <th>sw_plasma_speed</th>\n",
       "    </tr>\n",
       "  </thead>\n",
       "  <tbody>\n",
       "    <tr>\n",
       "      <th>0</th>\n",
       "      <td>2003-01-01 00:00:00</td>\n",
       "      <td>6.26</td>\n",
       "      <td>-5.00</td>\n",
       "      <td>3.33</td>\n",
       "      <td>1.74</td>\n",
       "      <td>9999999.0</td>\n",
       "      <td>999.98999</td>\n",
       "      <td>99999.898438</td>\n",
       "    </tr>\n",
       "    <tr>\n",
       "      <th>1</th>\n",
       "      <td>2003-01-01 00:01:00</td>\n",
       "      <td>6.27</td>\n",
       "      <td>-5.06</td>\n",
       "      <td>3.35</td>\n",
       "      <td>1.52</td>\n",
       "      <td>80463.0</td>\n",
       "      <td>5.82000</td>\n",
       "      <td>410.299988</td>\n",
       "    </tr>\n",
       "    <tr>\n",
       "      <th>2</th>\n",
       "      <td>2003-01-01 00:02:00</td>\n",
       "      <td>6.26</td>\n",
       "      <td>-5.22</td>\n",
       "      <td>3.08</td>\n",
       "      <td>1.51</td>\n",
       "      <td>85460.0</td>\n",
       "      <td>5.49000</td>\n",
       "      <td>408.299988</td>\n",
       "    </tr>\n",
       "    <tr>\n",
       "      <th>3</th>\n",
       "      <td>2003-01-01 00:03:00</td>\n",
       "      <td>6.26</td>\n",
       "      <td>-5.10</td>\n",
       "      <td>3.33</td>\n",
       "      <td>1.44</td>\n",
       "      <td>81797.0</td>\n",
       "      <td>5.67000</td>\n",
       "      <td>410.200012</td>\n",
       "    </tr>\n",
       "    <tr>\n",
       "      <th>4</th>\n",
       "      <td>2003-01-01 00:04:00</td>\n",
       "      <td>6.24</td>\n",
       "      <td>-5.11</td>\n",
       "      <td>3.05</td>\n",
       "      <td>1.83</td>\n",
       "      <td>77422.0</td>\n",
       "      <td>6.15000</td>\n",
       "      <td>409.399994</td>\n",
       "    </tr>\n",
       "  </tbody>\n",
       "</table>\n",
       "</div>"
      ],
      "text/plain": [
       "             datetime  scalar_b    bx    by    bz  sw_plasma_temp  \\\n",
       "0 2003-01-01 00:00:00      6.26 -5.00  3.33  1.74       9999999.0   \n",
       "1 2003-01-01 00:01:00      6.27 -5.06  3.35  1.52         80463.0   \n",
       "2 2003-01-01 00:02:00      6.26 -5.22  3.08  1.51         85460.0   \n",
       "3 2003-01-01 00:03:00      6.26 -5.10  3.33  1.44         81797.0   \n",
       "4 2003-01-01 00:04:00      6.24 -5.11  3.05  1.83         77422.0   \n",
       "\n",
       "   sw_plasma_density  sw_plasma_speed  \n",
       "0          999.98999     99999.898438  \n",
       "1            5.82000       410.299988  \n",
       "2            5.49000       408.299988  \n",
       "3            5.67000       410.200012  \n",
       "4            6.15000       409.399994  "
      ]
     },
     "execution_count": 6,
     "metadata": {},
     "output_type": "execute_result"
    }
   ],
   "source": [
    "df_swd.head()"
   ]
  },
  {
   "cell_type": "markdown",
   "metadata": {},
   "source": [
    "We now create the dataframes for the GPI data"
   ]
  },
  {
   "cell_type": "markdown",
   "metadata": {},
   "source": [
    "First, for Kp, ap, and F10.7"
   ]
  },
  {
   "cell_type": "code",
   "execution_count": 7,
   "metadata": {},
   "outputs": [],
   "source": [
    "# Read F10.7, Kp, ap data\n",
    "# In this case data are specified on a 3 hour grid which needs to be parsed out\n",
    "with open(f107_kp_ap_file, 'r') as f:\n",
    "    lines = f.readlines()\n",
    "    \n",
    "hours = []\n",
    "for i in range(24):\n",
    "    hours += [i]*60\n",
    "hours = hours*365\n",
    "\n",
    "minutes = list(np.arange(60))*24*365\n",
    "\n",
    "# Parse out fields to create data frame\n",
    "year, month, day = [], [], []\n",
    "kp, ap, f10_7 = [], [], []\n",
    "\n",
    "for l in lines:\n",
    "    l = l.strip()\n",
    "    yy = list(map(int, ['20'+l[:2]]*1440))\n",
    "    mm = list(map(int, [l[2:4]]*1440))\n",
    "    dd = list(map(int, [l[4:6]]*1440))\n",
    "    kk = list(map(int, [*[l[12:14]]*180, *[l[14:16]]*180, *[l[16:18]]*180, *[l[18:20]]*180, \n",
    "                        *[l[20:22]]*180, *[l[22:24]]*180, *[l[24:26]]*180, *[l[26:28]]*180 \n",
    "                       ]))\n",
    "    \n",
    "    aa = list(map(int, [*[l[31:34]]*180, *[l[34:37]]*180, *[l[37:40]]*180, *[l[40:43]]*180, \n",
    "                        *[l[43:46]]*180, *[l[46:49]]*180, *[l[49:52]]*180, *[l[52:55]]*180\n",
    "                        ]))\n",
    "    \n",
    "    ff = list(map(np.float32, [l[65:70]]*1440))\n",
    "    \n",
    "    year += yy\n",
    "    month += mm\n",
    "    day += dd\n",
    "    \n",
    "    kp += kk\n",
    "    ap += aa\n",
    "    f10_7 += ff"
   ]
  },
  {
   "cell_type": "code",
   "execution_count": 8,
   "metadata": {},
   "outputs": [],
   "source": [
    "# Convert time variables into a convenient/usable datetime format\n",
    "dt = [datetime.datetime(year=y, month=m, day=d, hour=h, minute=mm)\n",
    "            for y, m, d, h, mm in zip(year, month, day, hours, minutes)]"
   ]
  },
  {
   "cell_type": "code",
   "execution_count": 9,
   "metadata": {},
   "outputs": [],
   "source": [
    "# Create solar wind data dataframe\n",
    "data = {'datetime':dt, \n",
    "        'Kp':kp,\n",
    "        'ap':ap, \n",
    "        'f10_7':f10_7\n",
    "       }\n",
    "df_gpi = pd.DataFrame(data=data)"
   ]
  },
  {
   "cell_type": "code",
   "execution_count": 10,
   "metadata": {},
   "outputs": [
    {
     "data": {
      "text/html": [
       "<div>\n",
       "<style scoped>\n",
       "    .dataframe tbody tr th:only-of-type {\n",
       "        vertical-align: middle;\n",
       "    }\n",
       "\n",
       "    .dataframe tbody tr th {\n",
       "        vertical-align: top;\n",
       "    }\n",
       "\n",
       "    .dataframe thead th {\n",
       "        text-align: right;\n",
       "    }\n",
       "</style>\n",
       "<table border=\"1\" class=\"dataframe\">\n",
       "  <thead>\n",
       "    <tr style=\"text-align: right;\">\n",
       "      <th></th>\n",
       "      <th>datetime</th>\n",
       "      <th>Kp</th>\n",
       "      <th>ap</th>\n",
       "      <th>f10_7</th>\n",
       "    </tr>\n",
       "  </thead>\n",
       "  <tbody>\n",
       "    <tr>\n",
       "      <th>0</th>\n",
       "      <td>2003-01-01 00:00:00</td>\n",
       "      <td>10</td>\n",
       "      <td>4</td>\n",
       "      <td>111.199997</td>\n",
       "    </tr>\n",
       "    <tr>\n",
       "      <th>1</th>\n",
       "      <td>2003-01-01 00:01:00</td>\n",
       "      <td>10</td>\n",
       "      <td>4</td>\n",
       "      <td>111.199997</td>\n",
       "    </tr>\n",
       "    <tr>\n",
       "      <th>2</th>\n",
       "      <td>2003-01-01 00:02:00</td>\n",
       "      <td>10</td>\n",
       "      <td>4</td>\n",
       "      <td>111.199997</td>\n",
       "    </tr>\n",
       "    <tr>\n",
       "      <th>3</th>\n",
       "      <td>2003-01-01 00:03:00</td>\n",
       "      <td>10</td>\n",
       "      <td>4</td>\n",
       "      <td>111.199997</td>\n",
       "    </tr>\n",
       "    <tr>\n",
       "      <th>4</th>\n",
       "      <td>2003-01-01 00:04:00</td>\n",
       "      <td>10</td>\n",
       "      <td>4</td>\n",
       "      <td>111.199997</td>\n",
       "    </tr>\n",
       "  </tbody>\n",
       "</table>\n",
       "</div>"
      ],
      "text/plain": [
       "             datetime  Kp  ap       f10_7\n",
       "0 2003-01-01 00:00:00  10   4  111.199997\n",
       "1 2003-01-01 00:01:00  10   4  111.199997\n",
       "2 2003-01-01 00:02:00  10   4  111.199997\n",
       "3 2003-01-01 00:03:00  10   4  111.199997\n",
       "4 2003-01-01 00:04:00  10   4  111.199997"
      ]
     },
     "execution_count": 10,
     "metadata": {},
     "output_type": "execute_result"
    }
   ],
   "source": [
    "df_gpi.head()"
   ]
  },
  {
   "cell_type": "markdown",
   "metadata": {},
   "source": [
    "That looks good. Now, for AE"
   ]
  },
  {
   "cell_type": "code",
   "execution_count": 11,
   "metadata": {},
   "outputs": [],
   "source": [
    "with open(ae_file, 'r') as f:\n",
    "    lines = f.readlines()\n",
    "\n",
    "minutes = list(np.arange(60))*24*365\n",
    "year, month, day, hours = [], [], [], []\n",
    "AE = []\n",
    "\n",
    "for l in lines:\n",
    "    l.strip()\n",
    "    idx_str = l[21:23]\n",
    "    \n",
    "    if idx_str != 'AE':\n",
    "        continue\n",
    "    yy = int('20'+l[12:14])\n",
    "    \n",
    "    # weirdly, the 2003 file includes the first day of 2004\n",
    "    if yy != 2003:\n",
    "        continue\n",
    "    \n",
    "    mm = int(l[14:16])\n",
    "    dd = int(l[16:18])\n",
    "    hh = int(l[19:21])\n",
    "    aa = list(map(int, l[34:394].split()))\n",
    "    \n",
    "    year += [yy]*60\n",
    "    month += [mm]*60\n",
    "    day += [dd]*60\n",
    "    hours += [hh]*60\n",
    "    \n",
    "    AE += aa"
   ]
  },
  {
   "cell_type": "code",
   "execution_count": 12,
   "metadata": {},
   "outputs": [],
   "source": [
    "# Convert time variables into a convenient/usable datetime format\n",
    "dt = [datetime.datetime(year=y, month=mm, day=d, hour=h, minute=m)\n",
    "            for y, mm, d, h, m in zip(year, month, day, hours, minutes)]"
   ]
  },
  {
   "cell_type": "code",
   "execution_count": 13,
   "metadata": {},
   "outputs": [
    {
     "data": {
      "text/html": [
       "<div>\n",
       "<style scoped>\n",
       "    .dataframe tbody tr th:only-of-type {\n",
       "        vertical-align: middle;\n",
       "    }\n",
       "\n",
       "    .dataframe tbody tr th {\n",
       "        vertical-align: top;\n",
       "    }\n",
       "\n",
       "    .dataframe thead th {\n",
       "        text-align: right;\n",
       "    }\n",
       "</style>\n",
       "<table border=\"1\" class=\"dataframe\">\n",
       "  <thead>\n",
       "    <tr style=\"text-align: right;\">\n",
       "      <th></th>\n",
       "      <th>datetime</th>\n",
       "      <th>AE</th>\n",
       "    </tr>\n",
       "  </thead>\n",
       "  <tbody>\n",
       "    <tr>\n",
       "      <th>0</th>\n",
       "      <td>2003-01-01 00:00:00</td>\n",
       "      <td>30</td>\n",
       "    </tr>\n",
       "    <tr>\n",
       "      <th>1</th>\n",
       "      <td>2003-01-01 00:01:00</td>\n",
       "      <td>26</td>\n",
       "    </tr>\n",
       "    <tr>\n",
       "      <th>2</th>\n",
       "      <td>2003-01-01 00:02:00</td>\n",
       "      <td>24</td>\n",
       "    </tr>\n",
       "    <tr>\n",
       "      <th>3</th>\n",
       "      <td>2003-01-01 00:03:00</td>\n",
       "      <td>23</td>\n",
       "    </tr>\n",
       "    <tr>\n",
       "      <th>4</th>\n",
       "      <td>2003-01-01 00:04:00</td>\n",
       "      <td>19</td>\n",
       "    </tr>\n",
       "  </tbody>\n",
       "</table>\n",
       "</div>"
      ],
      "text/plain": [
       "             datetime  AE\n",
       "0 2003-01-01 00:00:00  30\n",
       "1 2003-01-01 00:01:00  26\n",
       "2 2003-01-01 00:02:00  24\n",
       "3 2003-01-01 00:03:00  23\n",
       "4 2003-01-01 00:04:00  19"
      ]
     },
     "execution_count": 13,
     "metadata": {},
     "output_type": "execute_result"
    }
   ],
   "source": [
    "# Create solar wind data dataframe\n",
    "data = {'datetime':dt, \n",
    "        'AE':AE\n",
    "       }\n",
    "df_gpi_ae = pd.DataFrame(data=data)\n",
    "df_gpi_ae.head()"
   ]
  },
  {
   "cell_type": "markdown",
   "metadata": {},
   "source": [
    "We now have all the data we need - now to merge with the solar wind dataframe"
   ]
  },
  {
   "cell_type": "code",
   "execution_count": 14,
   "metadata": {},
   "outputs": [
    {
     "data": {
      "text/html": [
       "<div>\n",
       "<style scoped>\n",
       "    .dataframe tbody tr th:only-of-type {\n",
       "        vertical-align: middle;\n",
       "    }\n",
       "\n",
       "    .dataframe tbody tr th {\n",
       "        vertical-align: top;\n",
       "    }\n",
       "\n",
       "    .dataframe thead th {\n",
       "        text-align: right;\n",
       "    }\n",
       "</style>\n",
       "<table border=\"1\" class=\"dataframe\">\n",
       "  <thead>\n",
       "    <tr style=\"text-align: right;\">\n",
       "      <th></th>\n",
       "      <th>datetime</th>\n",
       "      <th>scalar_b</th>\n",
       "      <th>bx</th>\n",
       "      <th>by</th>\n",
       "      <th>bz</th>\n",
       "      <th>sw_plasma_temp</th>\n",
       "      <th>sw_plasma_density</th>\n",
       "      <th>sw_plasma_speed</th>\n",
       "      <th>Kp</th>\n",
       "      <th>ap</th>\n",
       "      <th>f10_7</th>\n",
       "      <th>AE</th>\n",
       "    </tr>\n",
       "  </thead>\n",
       "  <tbody>\n",
       "    <tr>\n",
       "      <th>0</th>\n",
       "      <td>2003-01-01 00:00:00</td>\n",
       "      <td>6.26</td>\n",
       "      <td>-5.00</td>\n",
       "      <td>3.33</td>\n",
       "      <td>1.74</td>\n",
       "      <td>9999999.0</td>\n",
       "      <td>999.98999</td>\n",
       "      <td>99999.898438</td>\n",
       "      <td>10</td>\n",
       "      <td>4</td>\n",
       "      <td>111.199997</td>\n",
       "      <td>30</td>\n",
       "    </tr>\n",
       "    <tr>\n",
       "      <th>1</th>\n",
       "      <td>2003-01-01 00:01:00</td>\n",
       "      <td>6.27</td>\n",
       "      <td>-5.06</td>\n",
       "      <td>3.35</td>\n",
       "      <td>1.52</td>\n",
       "      <td>80463.0</td>\n",
       "      <td>5.82000</td>\n",
       "      <td>410.299988</td>\n",
       "      <td>10</td>\n",
       "      <td>4</td>\n",
       "      <td>111.199997</td>\n",
       "      <td>26</td>\n",
       "    </tr>\n",
       "    <tr>\n",
       "      <th>2</th>\n",
       "      <td>2003-01-01 00:02:00</td>\n",
       "      <td>6.26</td>\n",
       "      <td>-5.22</td>\n",
       "      <td>3.08</td>\n",
       "      <td>1.51</td>\n",
       "      <td>85460.0</td>\n",
       "      <td>5.49000</td>\n",
       "      <td>408.299988</td>\n",
       "      <td>10</td>\n",
       "      <td>4</td>\n",
       "      <td>111.199997</td>\n",
       "      <td>24</td>\n",
       "    </tr>\n",
       "    <tr>\n",
       "      <th>3</th>\n",
       "      <td>2003-01-01 00:03:00</td>\n",
       "      <td>6.26</td>\n",
       "      <td>-5.10</td>\n",
       "      <td>3.33</td>\n",
       "      <td>1.44</td>\n",
       "      <td>81797.0</td>\n",
       "      <td>5.67000</td>\n",
       "      <td>410.200012</td>\n",
       "      <td>10</td>\n",
       "      <td>4</td>\n",
       "      <td>111.199997</td>\n",
       "      <td>23</td>\n",
       "    </tr>\n",
       "    <tr>\n",
       "      <th>4</th>\n",
       "      <td>2003-01-01 00:04:00</td>\n",
       "      <td>6.24</td>\n",
       "      <td>-5.11</td>\n",
       "      <td>3.05</td>\n",
       "      <td>1.83</td>\n",
       "      <td>77422.0</td>\n",
       "      <td>6.15000</td>\n",
       "      <td>409.399994</td>\n",
       "      <td>10</td>\n",
       "      <td>4</td>\n",
       "      <td>111.199997</td>\n",
       "      <td>19</td>\n",
       "    </tr>\n",
       "  </tbody>\n",
       "</table>\n",
       "</div>"
      ],
      "text/plain": [
       "             datetime  scalar_b    bx    by    bz  sw_plasma_temp  \\\n",
       "0 2003-01-01 00:00:00      6.26 -5.00  3.33  1.74       9999999.0   \n",
       "1 2003-01-01 00:01:00      6.27 -5.06  3.35  1.52         80463.0   \n",
       "2 2003-01-01 00:02:00      6.26 -5.22  3.08  1.51         85460.0   \n",
       "3 2003-01-01 00:03:00      6.26 -5.10  3.33  1.44         81797.0   \n",
       "4 2003-01-01 00:04:00      6.24 -5.11  3.05  1.83         77422.0   \n",
       "\n",
       "   sw_plasma_density  sw_plasma_speed  Kp  ap       f10_7  AE  \n",
       "0          999.98999     99999.898438  10   4  111.199997  30  \n",
       "1            5.82000       410.299988  10   4  111.199997  26  \n",
       "2            5.49000       408.299988  10   4  111.199997  24  \n",
       "3            5.67000       410.200012  10   4  111.199997  23  \n",
       "4            6.15000       409.399994  10   4  111.199997  19  "
      ]
     },
     "execution_count": 14,
     "metadata": {},
     "output_type": "execute_result"
    }
   ],
   "source": [
    "df = df_swd.merge(df_gpi, how='left')\n",
    "df = df.merge(df_gpi_ae, how='left')\n",
    "df.head()"
   ]
  },
  {
   "cell_type": "markdown",
   "metadata": {},
   "source": [
    "There are bad values in this data frame for the solar wind quantities."
   ]
  },
  {
   "cell_type": "code",
   "execution_count": 15,
   "metadata": {
    "scrolled": true
   },
   "outputs": [
    {
     "data": {
      "text/plain": [
       "[<matplotlib.lines.Line2D at 0x7fc23e136fe0>]"
      ]
     },
     "execution_count": 15,
     "metadata": {},
     "output_type": "execute_result"
    },
    {
     "data": {
      "image/png": "[encoded data removed]",
      "text/plain": [
       "<Figure size 432x288 with 1 Axes>"
      ]
     },
     "metadata": {
      "needs_background": "light"
     },
     "output_type": "display_data"
    }
   ],
   "source": [
    "plt.plot(df['datetime'].iloc[:144], df['sw_plasma_temp'].iloc[:144])"
   ]
  },
  {
   "cell_type": "code",
   "execution_count": 16,
   "metadata": {},
   "outputs": [
    {
     "data": {
      "text/plain": [
       "[<matplotlib.lines.Line2D at 0x7fc255402aa0>]"
      ]
     },
     "execution_count": 16,
     "metadata": {},
     "output_type": "execute_result"
    },
    {
     "data": {
      "image/png": "[encoded data removed]",
      "text/plain": [
       "<Figure size 432x288 with 1 Axes>"
      ]
     },
     "metadata": {
      "needs_background": "light"
     },
     "output_type": "display_data"
    }
   ],
   "source": [
    "plt.plot(df['datetime'].iloc[:720], df['bz'].iloc[:720])"
   ]
  },
  {
   "cell_type": "markdown",
   "metadata": {},
   "source": [
    "Bad values are the same across the magnetic field values, and are slightly different for other quantities."
   ]
  },
  {
   "cell_type": "code",
   "execution_count": 17,
   "metadata": {},
   "outputs": [
    {
     "name": "stdout",
     "output_type": "stream",
     "text": [
      "9999.990234375 9999.990234375 9999.990234375 9999.990234375 999.989990234375\n"
     ]
    }
   ],
   "source": [
    "print(max(df['scalar_b']), max(df['bx']), max(df['by']), max(df['bz']), max(df['sw_plasma_density']))"
   ]
  },
  {
   "cell_type": "code",
   "execution_count": 18,
   "metadata": {},
   "outputs": [
    {
     "name": "stdout",
     "output_type": "stream",
     "text": [
      "0.25999999046325684 -24.399999618530273 -35.279998779296875 -47.95000076293945 0.1599999964237213\n"
     ]
    }
   ],
   "source": [
    "print(min(df['scalar_b']), min(df['bx']), min(df['by']), min(df['bz']), min(df['sw_plasma_density']))"
   ]
  },
  {
   "cell_type": "markdown",
   "metadata": {},
   "source": [
    "Examination also tells us that the GPI values do not suffer from bad values."
   ]
  },
  {
   "cell_type": "code",
   "execution_count": 19,
   "metadata": {},
   "outputs": [
    {
     "name": "stdout",
     "output_type": "stream",
     "text": [
      "83.4000015258789 0 0 6\n"
     ]
    }
   ],
   "source": [
    "print(min(df['f10_7']), min(df['Kp']), min(df['ap']), min(df['AE']))"
   ]
  },
  {
   "cell_type": "code",
   "execution_count": 20,
   "metadata": {},
   "outputs": [
    {
     "name": "stdout",
     "output_type": "stream",
     "text": [
      "275.3999938964844 90 400 4192\n"
     ]
    }
   ],
   "source": [
    "print(max(df['f10_7']), max(df['Kp']), max(df['ap']), max(df['AE']))"
   ]
  },
  {
   "cell_type": "markdown",
   "metadata": {},
   "source": [
    "We'll fix these bad values by simple linear interpolation. For starts, let's swap them out with numpy NaNs so that they're easily identifiable."
   ]
  },
  {
   "cell_type": "code",
   "execution_count": 21,
   "metadata": {},
   "outputs": [
    {
     "data": {
      "text/html": [
       "<div>\n",
       "<style scoped>\n",
       "    .dataframe tbody tr th:only-of-type {\n",
       "        vertical-align: middle;\n",
       "    }\n",
       "\n",
       "    .dataframe tbody tr th {\n",
       "        vertical-align: top;\n",
       "    }\n",
       "\n",
       "    .dataframe thead th {\n",
       "        text-align: right;\n",
       "    }\n",
       "</style>\n",
       "<table border=\"1\" class=\"dataframe\">\n",
       "  <thead>\n",
       "    <tr style=\"text-align: right;\">\n",
       "      <th></th>\n",
       "      <th>datetime</th>\n",
       "      <th>scalar_b</th>\n",
       "      <th>bx</th>\n",
       "      <th>by</th>\n",
       "      <th>bz</th>\n",
       "      <th>sw_plasma_temp</th>\n",
       "      <th>sw_plasma_density</th>\n",
       "      <th>sw_plasma_speed</th>\n",
       "      <th>Kp</th>\n",
       "      <th>ap</th>\n",
       "      <th>f10_7</th>\n",
       "      <th>AE</th>\n",
       "    </tr>\n",
       "  </thead>\n",
       "  <tbody>\n",
       "    <tr>\n",
       "      <th>0</th>\n",
       "      <td>2003-01-01 00:00:00</td>\n",
       "      <td>6.26</td>\n",
       "      <td>-5.00</td>\n",
       "      <td>3.33</td>\n",
       "      <td>1.74</td>\n",
       "      <td>NaN</td>\n",
       "      <td>NaN</td>\n",
       "      <td>NaN</td>\n",
       "      <td>10</td>\n",
       "      <td>4</td>\n",
       "      <td>111.199997</td>\n",
       "      <td>30</td>\n",
       "    </tr>\n",
       "    <tr>\n",
       "      <th>1</th>\n",
       "      <td>2003-01-01 00:01:00</td>\n",
       "      <td>6.27</td>\n",
       "      <td>-5.06</td>\n",
       "      <td>3.35</td>\n",
       "      <td>1.52</td>\n",
       "      <td>80463.0</td>\n",
       "      <td>5.82</td>\n",
       "      <td>410.299988</td>\n",
       "      <td>10</td>\n",
       "      <td>4</td>\n",
       "      <td>111.199997</td>\n",
       "      <td>26</td>\n",
       "    </tr>\n",
       "    <tr>\n",
       "      <th>2</th>\n",
       "      <td>2003-01-01 00:02:00</td>\n",
       "      <td>6.26</td>\n",
       "      <td>-5.22</td>\n",
       "      <td>3.08</td>\n",
       "      <td>1.51</td>\n",
       "      <td>85460.0</td>\n",
       "      <td>5.49</td>\n",
       "      <td>408.299988</td>\n",
       "      <td>10</td>\n",
       "      <td>4</td>\n",
       "      <td>111.199997</td>\n",
       "      <td>24</td>\n",
       "    </tr>\n",
       "    <tr>\n",
       "      <th>3</th>\n",
       "      <td>2003-01-01 00:03:00</td>\n",
       "      <td>6.26</td>\n",
       "      <td>-5.10</td>\n",
       "      <td>3.33</td>\n",
       "      <td>1.44</td>\n",
       "      <td>81797.0</td>\n",
       "      <td>5.67</td>\n",
       "      <td>410.200012</td>\n",
       "      <td>10</td>\n",
       "      <td>4</td>\n",
       "      <td>111.199997</td>\n",
       "      <td>23</td>\n",
       "    </tr>\n",
       "    <tr>\n",
       "      <th>4</th>\n",
       "      <td>2003-01-01 00:04:00</td>\n",
       "      <td>6.24</td>\n",
       "      <td>-5.11</td>\n",
       "      <td>3.05</td>\n",
       "      <td>1.83</td>\n",
       "      <td>77422.0</td>\n",
       "      <td>6.15</td>\n",
       "      <td>409.399994</td>\n",
       "      <td>10</td>\n",
       "      <td>4</td>\n",
       "      <td>111.199997</td>\n",
       "      <td>19</td>\n",
       "    </tr>\n",
       "  </tbody>\n",
       "</table>\n",
       "</div>"
      ],
      "text/plain": [
       "             datetime  scalar_b    bx    by    bz  sw_plasma_temp  \\\n",
       "0 2003-01-01 00:00:00      6.26 -5.00  3.33  1.74             NaN   \n",
       "1 2003-01-01 00:01:00      6.27 -5.06  3.35  1.52         80463.0   \n",
       "2 2003-01-01 00:02:00      6.26 -5.22  3.08  1.51         85460.0   \n",
       "3 2003-01-01 00:03:00      6.26 -5.10  3.33  1.44         81797.0   \n",
       "4 2003-01-01 00:04:00      6.24 -5.11  3.05  1.83         77422.0   \n",
       "\n",
       "   sw_plasma_density  sw_plasma_speed  Kp  ap       f10_7  AE  \n",
       "0                NaN              NaN  10   4  111.199997  30  \n",
       "1               5.82       410.299988  10   4  111.199997  26  \n",
       "2               5.49       408.299988  10   4  111.199997  24  \n",
       "3               5.67       410.200012  10   4  111.199997  23  \n",
       "4               6.15       409.399994  10   4  111.199997  19  "
      ]
     },
     "execution_count": 21,
     "metadata": {},
     "output_type": "execute_result"
    }
   ],
   "source": [
    "df.replace([max(df['scalar_b']), max(df['sw_plasma_density']), \n",
    "                                     max(df['sw_plasma_temp']), max(df['sw_plasma_speed'])], np.nan, inplace=True)\n",
    "df.head()"
   ]
  },
  {
   "cell_type": "code",
   "execution_count": 22,
   "metadata": {},
   "outputs": [],
   "source": [
    "# Fix via interpolation\n",
    "df['scalar_b'] = df['scalar_b'].interpolate()\n",
    "df['bx'] = df['bx'].interpolate()\n",
    "df['by'] = df['by'].interpolate()\n",
    "df['bz'] = df['bz'].interpolate()\n",
    "\n",
    "df['sw_plasma_density'] = df['sw_plasma_density'].interpolate()\n",
    "df['sw_plasma_temp'] = df['sw_plasma_temp'].interpolate()\n",
    "df['sw_plasma_speed'] = df['sw_plasma_speed'].interpolate()"
   ]
  },
  {
   "cell_type": "markdown",
   "metadata": {},
   "source": [
    "Let's check that the values do look better"
   ]
  },
  {
   "cell_type": "code",
   "execution_count": 23,
   "metadata": {},
   "outputs": [
    {
     "data": {
      "text/plain": [
       "[<matplotlib.lines.Line2D at 0x7fc255276b90>]"
      ]
     },
     "execution_count": 23,
     "metadata": {},
     "output_type": "execute_result"
    },
    {
     "data": {
      "image/png": "[encoded data removed]",
      "text/plain": [
       "<Figure size 432x288 with 1 Axes>"
      ]
     },
     "metadata": {
      "needs_background": "light"
     },
     "output_type": "display_data"
    }
   ],
   "source": [
    "plt.plot(df['datetime'].iloc[:144], df['sw_plasma_temp'].iloc[:144])"
   ]
  },
  {
   "cell_type": "code",
   "execution_count": 24,
   "metadata": {},
   "outputs": [
    {
     "data": {
      "text/plain": [
       "[<matplotlib.lines.Line2D at 0x7fc2552e5de0>]"
      ]
     },
     "execution_count": 24,
     "metadata": {},
     "output_type": "execute_result"
    },
    {
     "data": {
      "image/png": "[encoded data removed]",
      "text/plain": [
       "<Figure size 432x288 with 1 Axes>"
      ]
     },
     "metadata": {
      "needs_background": "light"
     },
     "output_type": "display_data"
    }
   ],
   "source": [
    "plt.plot(df['datetime'].iloc[:720], df['bz'].iloc[:720])"
   ]
  },
  {
   "cell_type": "markdown",
   "metadata": {},
   "source": [
    "With the values squared away, we turn our attention to periods of interest. We're interested in isolating the 2003 Halloween storm period as our baseline"
   ]
  },
  {
   "cell_type": "code",
   "execution_count": 25,
   "metadata": {},
   "outputs": [
    {
     "name": "stderr",
     "output_type": "stream",
     "text": [
      "/tmp/ipykernel_122019/216516989.py:4: FutureWarning: Boolean inputs to the `inclusive` argument are deprecated in favour of `both` or `neither`.\n",
      "  halloween_storm = df[df['datetime'].between(start_date, end_date, inclusive=True)]\n"
     ]
    }
   ],
   "source": [
    "start_date = datetime.datetime(year=2003, month=10, day=25)\n",
    "end_date = datetime.datetime(year=2003, month=11, day=8)\n",
    "\n",
    "halloween_storm = df[df['datetime'].between(start_date, end_date, inclusive=True)]\n",
    "halloween_storm.reset_index(drop=True, inplace=True)"
   ]
  },
  {
   "cell_type": "code",
   "execution_count": 26,
   "metadata": {},
   "outputs": [
    {
     "data": {
      "text/html": [
       "<div>\n",
       "<style scoped>\n",
       "    .dataframe tbody tr th:only-of-type {\n",
       "        vertical-align: middle;\n",
       "    }\n",
       "\n",
       "    .dataframe tbody tr th {\n",
       "        vertical-align: top;\n",
       "    }\n",
       "\n",
       "    .dataframe thead th {\n",
       "        text-align: right;\n",
       "    }\n",
       "</style>\n",
       "<table border=\"1\" class=\"dataframe\">\n",
       "  <thead>\n",
       "    <tr style=\"text-align: right;\">\n",
       "      <th></th>\n",
       "      <th>datetime</th>\n",
       "      <th>scalar_b</th>\n",
       "      <th>bx</th>\n",
       "      <th>by</th>\n",
       "      <th>bz</th>\n",
       "      <th>sw_plasma_temp</th>\n",
       "      <th>sw_plasma_density</th>\n",
       "      <th>sw_plasma_speed</th>\n",
       "      <th>Kp</th>\n",
       "      <th>ap</th>\n",
       "      <th>f10_7</th>\n",
       "      <th>AE</th>\n",
       "    </tr>\n",
       "  </thead>\n",
       "  <tbody>\n",
       "    <tr>\n",
       "      <th>0</th>\n",
       "      <td>2003-10-25 00:00:00</td>\n",
       "      <td>34.000000</td>\n",
       "      <td>1.82</td>\n",
       "      <td>0.89</td>\n",
       "      <td>33.939999</td>\n",
       "      <td>11694.0</td>\n",
       "      <td>5.95</td>\n",
       "      <td>565.000000</td>\n",
       "      <td>40</td>\n",
       "      <td>27</td>\n",
       "      <td>219.0</td>\n",
       "      <td>108</td>\n",
       "    </tr>\n",
       "    <tr>\n",
       "      <th>1</th>\n",
       "      <td>2003-10-25 00:01:00</td>\n",
       "      <td>33.990002</td>\n",
       "      <td>1.59</td>\n",
       "      <td>1.17</td>\n",
       "      <td>33.930000</td>\n",
       "      <td>11875.0</td>\n",
       "      <td>5.97</td>\n",
       "      <td>565.099976</td>\n",
       "      <td>40</td>\n",
       "      <td>27</td>\n",
       "      <td>219.0</td>\n",
       "      <td>110</td>\n",
       "    </tr>\n",
       "    <tr>\n",
       "      <th>2</th>\n",
       "      <td>2003-10-25 00:02:00</td>\n",
       "      <td>34.000000</td>\n",
       "      <td>1.40</td>\n",
       "      <td>1.50</td>\n",
       "      <td>33.939999</td>\n",
       "      <td>21790.0</td>\n",
       "      <td>7.44</td>\n",
       "      <td>570.000000</td>\n",
       "      <td>40</td>\n",
       "      <td>27</td>\n",
       "      <td>219.0</td>\n",
       "      <td>119</td>\n",
       "    </tr>\n",
       "    <tr>\n",
       "      <th>3</th>\n",
       "      <td>2003-10-25 00:03:00</td>\n",
       "      <td>34.060001</td>\n",
       "      <td>1.51</td>\n",
       "      <td>1.18</td>\n",
       "      <td>34.009998</td>\n",
       "      <td>8213.0</td>\n",
       "      <td>6.32</td>\n",
       "      <td>567.200012</td>\n",
       "      <td>40</td>\n",
       "      <td>27</td>\n",
       "      <td>219.0</td>\n",
       "      <td>120</td>\n",
       "    </tr>\n",
       "    <tr>\n",
       "      <th>4</th>\n",
       "      <td>2003-10-25 00:04:00</td>\n",
       "      <td>34.080002</td>\n",
       "      <td>1.58</td>\n",
       "      <td>1.03</td>\n",
       "      <td>34.029999</td>\n",
       "      <td>9183.0</td>\n",
       "      <td>6.03</td>\n",
       "      <td>567.900024</td>\n",
       "      <td>40</td>\n",
       "      <td>27</td>\n",
       "      <td>219.0</td>\n",
       "      <td>122</td>\n",
       "    </tr>\n",
       "  </tbody>\n",
       "</table>\n",
       "</div>"
      ],
      "text/plain": [
       "             datetime   scalar_b    bx    by         bz  sw_plasma_temp  \\\n",
       "0 2003-10-25 00:00:00  34.000000  1.82  0.89  33.939999         11694.0   \n",
       "1 2003-10-25 00:01:00  33.990002  1.59  1.17  33.930000         11875.0   \n",
       "2 2003-10-25 00:02:00  34.000000  1.40  1.50  33.939999         21790.0   \n",
       "3 2003-10-25 00:03:00  34.060001  1.51  1.18  34.009998          8213.0   \n",
       "4 2003-10-25 00:04:00  34.080002  1.58  1.03  34.029999          9183.0   \n",
       "\n",
       "   sw_plasma_density  sw_plasma_speed  Kp  ap  f10_7   AE  \n",
       "0               5.95       565.000000  40  27  219.0  108  \n",
       "1               5.97       565.099976  40  27  219.0  110  \n",
       "2               7.44       570.000000  40  27  219.0  119  \n",
       "3               6.32       567.200012  40  27  219.0  120  \n",
       "4               6.03       567.900024  40  27  219.0  122  "
      ]
     },
     "execution_count": 26,
     "metadata": {},
     "output_type": "execute_result"
    }
   ],
   "source": [
    "halloween_storm.head()"
   ]
  },
  {
   "cell_type": "code",
   "execution_count": 27,
   "metadata": {},
   "outputs": [
    {
     "data": {
      "text/plain": [
       "<matplotlib.legend.Legend at 0x7fc255173c70>"
      ]
     },
     "execution_count": 27,
     "metadata": {},
     "output_type": "execute_result"
    },
    {
     "data": {
      "image/png": "[encoded data removed]",
      "text/plain": [
       "<Figure size 720x360 with 1 Axes>"
      ]
     },
     "metadata": {
      "needs_background": "light"
     },
     "output_type": "display_data"
    }
   ],
   "source": [
    "plt.figure(figsize=(10, 5))\n",
    "plt.plot(halloween_storm['datetime'], halloween_storm['bz'],label = 'Bz (nT)')\n",
    "plt.xticks(rotation=45, fontsize=12)\n",
    "plt.yticks(fontsize=12)\n",
    "plt.title(\"Bz component of solar wind for Halloween storm\", fontsize=15)\n",
    "plt.legend()"
   ]
  },
  {
   "cell_type": "code",
   "execution_count": 28,
   "metadata": {},
   "outputs": [
    {
     "data": {
      "text/plain": [
       "<matplotlib.legend.Legend at 0x7fc2551cd5d0>"
      ]
     },
     "execution_count": 28,
     "metadata": {},
     "output_type": "execute_result"
    },
    {
     "data": {
      "image/png": "[encoded data removed]",
      "text/plain": [
       "<Figure size 720x360 with 1 Axes>"
      ]
     },
     "metadata": {
      "needs_background": "light"
     },
     "output_type": "display_data"
    }
   ],
   "source": [
    "plt.figure(figsize=(10, 5))\n",
    "plt.plot(halloween_storm['datetime'], halloween_storm['sw_plasma_speed'],label = 'Plasma speed (km/s)')\n",
    "plt.xticks(rotation=45, fontsize=12)\n",
    "plt.yticks(fontsize=12)\n",
    "plt.title(\"Plasma speed during Halloween storm\", fontsize=15)\n",
    "plt.legend()"
   ]
  },
  {
   "cell_type": "markdown",
   "metadata": {},
   "source": [
    "This still leaves some work to be desired. Let's pull in the hourly averages and try to superimpose them here"
   ]
  },
  {
   "cell_type": "markdown",
   "metadata": {},
   "source": [
    "Refer to the 'Create Synthetic SW Data' notebook for comments"
   ]
  },
  {
   "cell_type": "code",
   "execution_count": 29,
   "metadata": {},
   "outputs": [
    {
     "data": {
      "text/html": [
       "<div>\n",
       "<style scoped>\n",
       "    .dataframe tbody tr th:only-of-type {\n",
       "        vertical-align: middle;\n",
       "    }\n",
       "\n",
       "    .dataframe tbody tr th {\n",
       "        vertical-align: top;\n",
       "    }\n",
       "\n",
       "    .dataframe thead th {\n",
       "        text-align: right;\n",
       "    }\n",
       "</style>\n",
       "<table border=\"1\" class=\"dataframe\">\n",
       "  <thead>\n",
       "    <tr style=\"text-align: right;\">\n",
       "      <th></th>\n",
       "      <th>datetime</th>\n",
       "      <th>Scalar_B</th>\n",
       "      <th>BX</th>\n",
       "      <th>BY</th>\n",
       "      <th>BZ</th>\n",
       "      <th>SW_Plasma_Temperature</th>\n",
       "      <th>SW_Proton_Density</th>\n",
       "      <th>SW_Plasma_Speed</th>\n",
       "      <th>Kp</th>\n",
       "      <th>ap_index</th>\n",
       "      <th>f10.7_index</th>\n",
       "      <th>AE-index</th>\n",
       "    </tr>\n",
       "  </thead>\n",
       "  <tbody>\n",
       "    <tr>\n",
       "      <th>0</th>\n",
       "      <td>2003-01-01 00:00:00</td>\n",
       "      <td>6.5</td>\n",
       "      <td>-5.0</td>\n",
       "      <td>2.8</td>\n",
       "      <td>2.8</td>\n",
       "      <td>54536.0</td>\n",
       "      <td>4.8</td>\n",
       "      <td>407.0</td>\n",
       "      <td>10</td>\n",
       "      <td>4</td>\n",
       "      <td>111.2</td>\n",
       "      <td>25</td>\n",
       "    </tr>\n",
       "    <tr>\n",
       "      <th>1</th>\n",
       "      <td>2003-01-01 01:00:00</td>\n",
       "      <td>6.6</td>\n",
       "      <td>-0.1</td>\n",
       "      <td>6.2</td>\n",
       "      <td>1.2</td>\n",
       "      <td>59202.0</td>\n",
       "      <td>6.0</td>\n",
       "      <td>435.0</td>\n",
       "      <td>10</td>\n",
       "      <td>4</td>\n",
       "      <td>111.2</td>\n",
       "      <td>38</td>\n",
       "    </tr>\n",
       "    <tr>\n",
       "      <th>2</th>\n",
       "      <td>2003-01-01 02:00:00</td>\n",
       "      <td>6.9</td>\n",
       "      <td>-1.7</td>\n",
       "      <td>4.7</td>\n",
       "      <td>-2.6</td>\n",
       "      <td>52149.0</td>\n",
       "      <td>5.7</td>\n",
       "      <td>418.0</td>\n",
       "      <td>10</td>\n",
       "      <td>4</td>\n",
       "      <td>111.2</td>\n",
       "      <td>60</td>\n",
       "    </tr>\n",
       "    <tr>\n",
       "      <th>3</th>\n",
       "      <td>2003-01-01 03:00:00</td>\n",
       "      <td>6.8</td>\n",
       "      <td>1.9</td>\n",
       "      <td>5.8</td>\n",
       "      <td>0.6</td>\n",
       "      <td>37783.0</td>\n",
       "      <td>5.0</td>\n",
       "      <td>433.0</td>\n",
       "      <td>23</td>\n",
       "      <td>9</td>\n",
       "      <td>111.2</td>\n",
       "      <td>96</td>\n",
       "    </tr>\n",
       "    <tr>\n",
       "      <th>4</th>\n",
       "      <td>2003-01-01 04:00:00</td>\n",
       "      <td>7.0</td>\n",
       "      <td>2.0</td>\n",
       "      <td>6.3</td>\n",
       "      <td>2.1</td>\n",
       "      <td>42290.0</td>\n",
       "      <td>6.0</td>\n",
       "      <td>430.0</td>\n",
       "      <td>23</td>\n",
       "      <td>9</td>\n",
       "      <td>111.2</td>\n",
       "      <td>83</td>\n",
       "    </tr>\n",
       "  </tbody>\n",
       "</table>\n",
       "</div>"
      ],
      "text/plain": [
       "             datetime  Scalar_B   BX   BY   BZ  SW_Plasma_Temperature  \\\n",
       "0 2003-01-01 00:00:00       6.5 -5.0  2.8  2.8                54536.0   \n",
       "1 2003-01-01 01:00:00       6.6 -0.1  6.2  1.2                59202.0   \n",
       "2 2003-01-01 02:00:00       6.9 -1.7  4.7 -2.6                52149.0   \n",
       "3 2003-01-01 03:00:00       6.8  1.9  5.8  0.6                37783.0   \n",
       "4 2003-01-01 04:00:00       7.0  2.0  6.3  2.1                42290.0   \n",
       "\n",
       "   SW_Proton_Density  SW_Plasma_Speed  Kp  ap_index  f10.7_index  AE-index  \n",
       "0                4.8            407.0  10         4        111.2        25  \n",
       "1                6.0            435.0  10         4        111.2        38  \n",
       "2                5.7            418.0  10         4        111.2        60  \n",
       "3                5.0            433.0  23         9        111.2        96  \n",
       "4                6.0            430.0  23         9        111.2        83  "
      ]
     },
     "execution_count": 29,
     "metadata": {},
     "output_type": "execute_result"
    }
   ],
   "source": [
    "header_file = data_folder / \"omni_2003_header.txt\"\n",
    "data_file = data_folder / \"omni_2003.asc\"\n",
    "# Reader header info into a list\n",
    "header_info = []\n",
    "with open(header_file, 'r') as f:\n",
    "    lines = f.readlines()\n",
    "\n",
    "header_info = [x.strip().split()[1] for x in lines[4:]]\n",
    "df_hourly = pd.read_fwf(data_file, names=header_info, infer_nrows = 8760, index_col=False, index=False)\n",
    "df_hourly[\"datetime\"] = pd.to_datetime(df_hourly['YEAR'] * 100000 + 100*df_hourly['DOY']+df_hourly['Hour'], format='%Y%j%H')\n",
    "new_index = ['datetime'] + df_hourly.keys().tolist()[3:-1]\n",
    "df_hourly = df_hourly[new_index]\n",
    "df_hourly.head()"
   ]
  },
  {
   "cell_type": "code",
   "execution_count": 30,
   "metadata": {},
   "outputs": [
    {
     "name": "stderr",
     "output_type": "stream",
     "text": [
      "/tmp/ipykernel_122019/4291171308.py:4: FutureWarning: Boolean inputs to the `inclusive` argument are deprecated in favour of `both` or `neither`.\n",
      "  halloween_storm_hourly = df_hourly[df_hourly['datetime'].between(start_date, end_date, inclusive=True)]\n"
     ]
    }
   ],
   "source": [
    "start_date = datetime.datetime(year=2003, month=10, day=25)\n",
    "end_date = datetime.datetime(year=2003, month=11, day=8)\n",
    "\n",
    "halloween_storm_hourly = df_hourly[df_hourly['datetime'].between(start_date, end_date, inclusive=True)]"
   ]
  },
  {
   "cell_type": "code",
   "execution_count": 31,
   "metadata": {},
   "outputs": [
    {
     "data": {
      "text/plain": [
       "<matplotlib.legend.Legend at 0x7fc255242470>"
      ]
     },
     "execution_count": 31,
     "metadata": {},
     "output_type": "execute_result"
    },
    {
     "data": {
      "image/png": "[encoded data removed]",
      "text/plain": [
       "<Figure size 720x360 with 1 Axes>"
      ]
     },
     "metadata": {
      "needs_background": "light"
     },
     "output_type": "display_data"
    }
   ],
   "source": [
    "plt.figure(figsize=(10, 5))\n",
    "plt.plot(halloween_storm['datetime'], halloween_storm['bz'],label = 'Bz')\n",
    "plt.plot(halloween_storm_hourly['datetime'], halloween_storm_hourly['BZ'],label = 'Bz')\n",
    "plt.xticks(rotation=45, fontsize=12)\n",
    "plt.yticks(fontsize=12)\n",
    "plt.title(\"Bz component of solar wind for Halloween storm\", fontsize=15)\n",
    "plt.legend()"
   ]
  },
  {
   "cell_type": "code",
   "execution_count": 32,
   "metadata": {},
   "outputs": [
    {
     "data": {
      "text/plain": [
       "<matplotlib.legend.Legend at 0x7fc2444f1ed0>"
      ]
     },
     "execution_count": 32,
     "metadata": {},
     "output_type": "execute_result"
    },
    {
     "data": {
      "image/png": "[encoded data removed]",
      "text/plain": [
       "<Figure size 720x360 with 1 Axes>"
      ]
     },
     "metadata": {
      "needs_background": "light"
     },
     "output_type": "display_data"
    }
   ],
   "source": [
    "plt.figure(figsize=(10, 5))\n",
    "plt.plot(halloween_storm_hourly['datetime'], halloween_storm_hourly['SW_Plasma_Speed'],label = 'Plasma speed (km/s)')\n",
    "plt.xticks(rotation=45, fontsize=12)\n",
    "plt.yticks(fontsize=12)\n",
    "plt.title(\"Plasma speed during Halloween storm\", fontsize=15)\n",
    "plt.legend()"
   ]
  },
  {
   "cell_type": "markdown",
   "metadata": {},
   "source": [
    "This looks promising. Let's merge left on our original dataframe, interpolate the hourly values to a minute time resolution, and then average them. We also drop the gpi from the hourly dataframe"
   ]
  },
  {
   "cell_type": "code",
   "execution_count": 33,
   "metadata": {
    "scrolled": false
   },
   "outputs": [
    {
     "name": "stderr",
     "output_type": "stream",
     "text": [
      "/tmp/ipykernel_122019/1474780628.py:1: SettingWithCopyWarning: \n",
      "A value is trying to be set on a copy of a slice from a DataFrame\n",
      "\n",
      "See the caveats in the documentation: https://pandas.pydata.org/pandas-docs/stable/user_guide/indexing.html#returning-a-view-versus-a-copy\n",
      "  halloween_storm_hourly.drop(['Kp', 'ap_index', 'f10.7_index', 'AE-index'], axis=1, inplace=True)\n"
     ]
    }
   ],
   "source": [
    "halloween_storm_hourly.drop(['Kp', 'ap_index', 'f10.7_index', 'AE-index'], axis=1, inplace=True)"
   ]
  },
  {
   "cell_type": "code",
   "execution_count": 34,
   "metadata": {},
   "outputs": [
    {
     "data": {
      "text/html": [
       "<div>\n",
       "<style scoped>\n",
       "    .dataframe tbody tr th:only-of-type {\n",
       "        vertical-align: middle;\n",
       "    }\n",
       "\n",
       "    .dataframe tbody tr th {\n",
       "        vertical-align: top;\n",
       "    }\n",
       "\n",
       "    .dataframe thead th {\n",
       "        text-align: right;\n",
       "    }\n",
       "</style>\n",
       "<table border=\"1\" class=\"dataframe\">\n",
       "  <thead>\n",
       "    <tr style=\"text-align: right;\">\n",
       "      <th></th>\n",
       "      <th>datetime</th>\n",
       "      <th>Scalar_B</th>\n",
       "      <th>BX</th>\n",
       "      <th>BY</th>\n",
       "      <th>BZ</th>\n",
       "      <th>SW_Plasma_Temperature</th>\n",
       "      <th>SW_Proton_Density</th>\n",
       "      <th>SW_Plasma_Speed</th>\n",
       "    </tr>\n",
       "  </thead>\n",
       "  <tbody>\n",
       "    <tr>\n",
       "      <th>7128</th>\n",
       "      <td>2003-10-25 00:00:00</td>\n",
       "      <td>34.0</td>\n",
       "      <td>1.9</td>\n",
       "      <td>0.6</td>\n",
       "      <td>33.9</td>\n",
       "      <td>15624.0</td>\n",
       "      <td>5.8</td>\n",
       "      <td>571.0</td>\n",
       "    </tr>\n",
       "    <tr>\n",
       "      <th>7129</th>\n",
       "      <td>2003-10-25 01:00:00</td>\n",
       "      <td>32.7</td>\n",
       "      <td>-0.6</td>\n",
       "      <td>-7.3</td>\n",
       "      <td>30.9</td>\n",
       "      <td>44170.0</td>\n",
       "      <td>9.6</td>\n",
       "      <td>577.0</td>\n",
       "    </tr>\n",
       "    <tr>\n",
       "      <th>7130</th>\n",
       "      <td>2003-10-25 02:00:00</td>\n",
       "      <td>18.8</td>\n",
       "      <td>-2.0</td>\n",
       "      <td>-12.2</td>\n",
       "      <td>9.5</td>\n",
       "      <td>284291.0</td>\n",
       "      <td>28.6</td>\n",
       "      <td>565.0</td>\n",
       "    </tr>\n",
       "    <tr>\n",
       "      <th>7131</th>\n",
       "      <td>2003-10-25 03:00:00</td>\n",
       "      <td>14.7</td>\n",
       "      <td>-8.5</td>\n",
       "      <td>3.3</td>\n",
       "      <td>8.4</td>\n",
       "      <td>303546.0</td>\n",
       "      <td>29.8</td>\n",
       "      <td>541.0</td>\n",
       "    </tr>\n",
       "    <tr>\n",
       "      <th>7132</th>\n",
       "      <td>2003-10-25 04:00:00</td>\n",
       "      <td>14.2</td>\n",
       "      <td>-3.3</td>\n",
       "      <td>-8.5</td>\n",
       "      <td>8.5</td>\n",
       "      <td>349135.0</td>\n",
       "      <td>19.4</td>\n",
       "      <td>527.0</td>\n",
       "    </tr>\n",
       "  </tbody>\n",
       "</table>\n",
       "</div>"
      ],
      "text/plain": [
       "                datetime  Scalar_B   BX    BY    BZ  SW_Plasma_Temperature  \\\n",
       "7128 2003-10-25 00:00:00      34.0  1.9   0.6  33.9                15624.0   \n",
       "7129 2003-10-25 01:00:00      32.7 -0.6  -7.3  30.9                44170.0   \n",
       "7130 2003-10-25 02:00:00      18.8 -2.0 -12.2   9.5               284291.0   \n",
       "7131 2003-10-25 03:00:00      14.7 -8.5   3.3   8.4               303546.0   \n",
       "7132 2003-10-25 04:00:00      14.2 -3.3  -8.5   8.5               349135.0   \n",
       "\n",
       "      SW_Proton_Density  SW_Plasma_Speed  \n",
       "7128                5.8            571.0  \n",
       "7129                9.6            577.0  \n",
       "7130               28.6            565.0  \n",
       "7131               29.8            541.0  \n",
       "7132               19.4            527.0  "
      ]
     },
     "execution_count": 34,
     "metadata": {},
     "output_type": "execute_result"
    }
   ],
   "source": [
    "halloween_storm_hourly.head()"
   ]
  },
  {
   "cell_type": "code",
   "execution_count": 35,
   "metadata": {},
   "outputs": [
    {
     "data": {
      "text/html": [
       "<div>\n",
       "<style scoped>\n",
       "    .dataframe tbody tr th:only-of-type {\n",
       "        vertical-align: middle;\n",
       "    }\n",
       "\n",
       "    .dataframe tbody tr th {\n",
       "        vertical-align: top;\n",
       "    }\n",
       "\n",
       "    .dataframe thead th {\n",
       "        text-align: right;\n",
       "    }\n",
       "</style>\n",
       "<table border=\"1\" class=\"dataframe\">\n",
       "  <thead>\n",
       "    <tr style=\"text-align: right;\">\n",
       "      <th></th>\n",
       "      <th>datetime</th>\n",
       "      <th>scalar_b</th>\n",
       "      <th>bx</th>\n",
       "      <th>by</th>\n",
       "      <th>bz</th>\n",
       "      <th>sw_plasma_temp</th>\n",
       "      <th>sw_plasma_density</th>\n",
       "      <th>sw_plasma_speed</th>\n",
       "      <th>Kp</th>\n",
       "      <th>ap</th>\n",
       "      <th>f10_7</th>\n",
       "      <th>AE</th>\n",
       "      <th>Scalar_B</th>\n",
       "      <th>BX</th>\n",
       "      <th>BY</th>\n",
       "      <th>BZ</th>\n",
       "      <th>SW_Plasma_Temperature</th>\n",
       "      <th>SW_Proton_Density</th>\n",
       "      <th>SW_Plasma_Speed</th>\n",
       "    </tr>\n",
       "  </thead>\n",
       "  <tbody>\n",
       "    <tr>\n",
       "      <th>0</th>\n",
       "      <td>2003-10-25 00:00:00</td>\n",
       "      <td>34.000000</td>\n",
       "      <td>1.82</td>\n",
       "      <td>0.89</td>\n",
       "      <td>33.939999</td>\n",
       "      <td>11694.0</td>\n",
       "      <td>5.95</td>\n",
       "      <td>565.000000</td>\n",
       "      <td>40</td>\n",
       "      <td>27</td>\n",
       "      <td>219.0</td>\n",
       "      <td>108</td>\n",
       "      <td>34.0</td>\n",
       "      <td>1.9</td>\n",
       "      <td>0.6</td>\n",
       "      <td>33.9</td>\n",
       "      <td>15624.0</td>\n",
       "      <td>5.8</td>\n",
       "      <td>571.0</td>\n",
       "    </tr>\n",
       "    <tr>\n",
       "      <th>1</th>\n",
       "      <td>2003-10-25 00:01:00</td>\n",
       "      <td>33.990002</td>\n",
       "      <td>1.59</td>\n",
       "      <td>1.17</td>\n",
       "      <td>33.930000</td>\n",
       "      <td>11875.0</td>\n",
       "      <td>5.97</td>\n",
       "      <td>565.099976</td>\n",
       "      <td>40</td>\n",
       "      <td>27</td>\n",
       "      <td>219.0</td>\n",
       "      <td>110</td>\n",
       "      <td>NaN</td>\n",
       "      <td>NaN</td>\n",
       "      <td>NaN</td>\n",
       "      <td>NaN</td>\n",
       "      <td>NaN</td>\n",
       "      <td>NaN</td>\n",
       "      <td>NaN</td>\n",
       "    </tr>\n",
       "    <tr>\n",
       "      <th>2</th>\n",
       "      <td>2003-10-25 00:02:00</td>\n",
       "      <td>34.000000</td>\n",
       "      <td>1.40</td>\n",
       "      <td>1.50</td>\n",
       "      <td>33.939999</td>\n",
       "      <td>21790.0</td>\n",
       "      <td>7.44</td>\n",
       "      <td>570.000000</td>\n",
       "      <td>40</td>\n",
       "      <td>27</td>\n",
       "      <td>219.0</td>\n",
       "      <td>119</td>\n",
       "      <td>NaN</td>\n",
       "      <td>NaN</td>\n",
       "      <td>NaN</td>\n",
       "      <td>NaN</td>\n",
       "      <td>NaN</td>\n",
       "      <td>NaN</td>\n",
       "      <td>NaN</td>\n",
       "    </tr>\n",
       "    <tr>\n",
       "      <th>3</th>\n",
       "      <td>2003-10-25 00:03:00</td>\n",
       "      <td>34.060001</td>\n",
       "      <td>1.51</td>\n",
       "      <td>1.18</td>\n",
       "      <td>34.009998</td>\n",
       "      <td>8213.0</td>\n",
       "      <td>6.32</td>\n",
       "      <td>567.200012</td>\n",
       "      <td>40</td>\n",
       "      <td>27</td>\n",
       "      <td>219.0</td>\n",
       "      <td>120</td>\n",
       "      <td>NaN</td>\n",
       "      <td>NaN</td>\n",
       "      <td>NaN</td>\n",
       "      <td>NaN</td>\n",
       "      <td>NaN</td>\n",
       "      <td>NaN</td>\n",
       "      <td>NaN</td>\n",
       "    </tr>\n",
       "    <tr>\n",
       "      <th>4</th>\n",
       "      <td>2003-10-25 00:04:00</td>\n",
       "      <td>34.080002</td>\n",
       "      <td>1.58</td>\n",
       "      <td>1.03</td>\n",
       "      <td>34.029999</td>\n",
       "      <td>9183.0</td>\n",
       "      <td>6.03</td>\n",
       "      <td>567.900024</td>\n",
       "      <td>40</td>\n",
       "      <td>27</td>\n",
       "      <td>219.0</td>\n",
       "      <td>122</td>\n",
       "      <td>NaN</td>\n",
       "      <td>NaN</td>\n",
       "      <td>NaN</td>\n",
       "      <td>NaN</td>\n",
       "      <td>NaN</td>\n",
       "      <td>NaN</td>\n",
       "      <td>NaN</td>\n",
       "    </tr>\n",
       "  </tbody>\n",
       "</table>\n",
       "</div>"
      ],
      "text/plain": [
       "             datetime   scalar_b    bx    by         bz  sw_plasma_temp  \\\n",
       "0 2003-10-25 00:00:00  34.000000  1.82  0.89  33.939999         11694.0   \n",
       "1 2003-10-25 00:01:00  33.990002  1.59  1.17  33.930000         11875.0   \n",
       "2 2003-10-25 00:02:00  34.000000  1.40  1.50  33.939999         21790.0   \n",
       "3 2003-10-25 00:03:00  34.060001  1.51  1.18  34.009998          8213.0   \n",
       "4 2003-10-25 00:04:00  34.080002  1.58  1.03  34.029999          9183.0   \n",
       "\n",
       "   sw_plasma_density  sw_plasma_speed  Kp  ap  f10_7   AE  Scalar_B   BX   BY  \\\n",
       "0               5.95       565.000000  40  27  219.0  108      34.0  1.9  0.6   \n",
       "1               5.97       565.099976  40  27  219.0  110       NaN  NaN  NaN   \n",
       "2               7.44       570.000000  40  27  219.0  119       NaN  NaN  NaN   \n",
       "3               6.32       567.200012  40  27  219.0  120       NaN  NaN  NaN   \n",
       "4               6.03       567.900024  40  27  219.0  122       NaN  NaN  NaN   \n",
       "\n",
       "     BZ  SW_Plasma_Temperature  SW_Proton_Density  SW_Plasma_Speed  \n",
       "0  33.9                15624.0                5.8            571.0  \n",
       "1   NaN                    NaN                NaN              NaN  \n",
       "2   NaN                    NaN                NaN              NaN  \n",
       "3   NaN                    NaN                NaN              NaN  \n",
       "4   NaN                    NaN                NaN              NaN  "
      ]
     },
     "execution_count": 35,
     "metadata": {},
     "output_type": "execute_result"
    }
   ],
   "source": [
    "halloween_storm = halloween_storm.merge(halloween_storm_hourly, how='left')\n",
    "halloween_storm.head()"
   ]
  },
  {
   "cell_type": "code",
   "execution_count": 36,
   "metadata": {},
   "outputs": [],
   "source": [
    "halloween_storm['Scalar_B'] = halloween_storm['Scalar_B'].interpolate()\n",
    "halloween_storm['BX'] = halloween_storm['BX'].interpolate()\n",
    "halloween_storm['BY'] = halloween_storm['BY'].interpolate()\n",
    "halloween_storm['BZ'] = halloween_storm['BZ'].interpolate()\n",
    "\n",
    "halloween_storm['SW_Proton_Density'] = halloween_storm['SW_Proton_Density'].interpolate()\n",
    "halloween_storm['SW_Plasma_Temperature'] = halloween_storm['SW_Plasma_Temperature'].interpolate()\n",
    "halloween_storm['SW_Plasma_Speed'] = halloween_storm['SW_Plasma_Speed'].interpolate()"
   ]
  },
  {
   "cell_type": "code",
   "execution_count": 37,
   "metadata": {},
   "outputs": [
    {
     "data": {
      "text/plain": [
       "<matplotlib.legend.Legend at 0x7fc253020730>"
      ]
     },
     "execution_count": 37,
     "metadata": {},
     "output_type": "execute_result"
    },
    {
     "data": {
      "image/png": "[encoded data removed]",
      "text/plain": [
       "<Figure size 720x360 with 1 Axes>"
      ]
     },
     "metadata": {
      "needs_background": "light"
     },
     "output_type": "display_data"
    }
   ],
   "source": [
    "plt.figure(figsize=(10, 5))\n",
    "\n",
    "# We add some gaussian noise to the averaged value\n",
    "bz_test = 0.5*(halloween_storm['bz'] + halloween_storm['BZ']) \n",
    "mean, std_dev = np.mean(bz_test), np.std(bz_test)\n",
    "bz_test += np.random.normal(mean, 0.05*std_dev, len(bz_test))\n",
    "\n",
    "plt.plot(halloween_storm['datetime'], halloween_storm['BZ'],label = 'Bz hourly (interpolated)')\n",
    "plt.plot(halloween_storm['datetime'], bz_test, label = 'Averaged Bz')\n",
    "plt.xticks(rotation=45, fontsize=12)\n",
    "plt.yticks(fontsize=12)\n",
    "plt.title(\"Bz component of solar wind for Halloween storm\", fontsize=15)\n",
    "plt.legend()"
   ]
  },
  {
   "cell_type": "markdown",
   "metadata": {},
   "source": [
    "That looks more realisitic. Let's incorporate this information into our dataframe and drop the unnecessary columns"
   ]
  },
  {
   "cell_type": "code",
   "execution_count": 38,
   "metadata": {},
   "outputs": [],
   "source": [
    "# Bx\n",
    "bx = 0.5*(halloween_storm['bx'] + halloween_storm['BX']) \n",
    "mean, std_dev = np.mean(bx), np.std(bx)\n",
    "bx += np.random.normal(mean, 0.05*std_dev, len(bx))\n",
    "\n",
    "halloween_storm['bx'] = bx\n",
    "\n",
    "# By\n",
    "by = 0.5*(halloween_storm['by'] + halloween_storm['BY']) \n",
    "mean, std_dev = np.mean(by), np.std(by)\n",
    "by += np.random.normal(mean, 0.05*std_dev, len(by))\n",
    "\n",
    "halloween_storm['by'] = by\n",
    "\n",
    "# Bz\n",
    "bz = 0.5*(halloween_storm['bz'] + halloween_storm['BZ']) \n",
    "mean, std_dev = np.mean(bz), np.std(bz)\n",
    "bz += np.random.normal(mean, 0.05*std_dev, len(bz))\n",
    "\n",
    "halloween_storm['bz'] = bz\n",
    "\n",
    "# Scalar B\n",
    "# Derive from components for consistency\n",
    "\n",
    "halloween_storm['scalar_b'] = np.sqrt(bx**2 + by**2 + bz**2)\n",
    "\n",
    "# Temperature\n",
    "sw_plasma_temp = 0.5*(halloween_storm['sw_plasma_temp'] + halloween_storm['SW_Plasma_Temperature']) \n",
    "mean, std_dev = np.mean(sw_plasma_temp), np.std(sw_plasma_temp)\n",
    "sw_plasma_temp += np.random.normal(mean, 0.05*std_dev, len(sw_plasma_temp))\n",
    "\n",
    "halloween_storm['sw_plasma_temp'] = sw_plasma_temp\n",
    "\n",
    "# Density\n",
    "sw_plasma_density = 0.5*(halloween_storm['sw_plasma_density'] + halloween_storm['SW_Proton_Density']) \n",
    "mean, std_dev = np.mean(sw_plasma_density), np.std(sw_plasma_density)\n",
    "sw_plasma_density += np.random.normal(mean, 0.05*std_dev, len(sw_plasma_density))\n",
    "\n",
    "halloween_storm['sw_plasma_density'] = sw_plasma_density\n",
    "\n",
    "# Speed\n",
    "sw_plasma_speed = 0.5*(halloween_storm['sw_plasma_speed'] + halloween_storm['SW_Plasma_Speed']) \n",
    "mean, std_dev = np.mean(sw_plasma_speed), np.std(sw_plasma_speed)\n",
    "sw_plasma_speed += np.random.normal(mean, 0.05*std_dev, len(sw_plasma_speed))\n",
    "\n",
    "halloween_storm['sw_plasma_speed'] = sw_plasma_speed\n",
    "\n",
    "halloween_storm.drop(['BX', 'BY', 'BZ', 'SW_Plasma_Temperature', 'SW_Proton_Density', 'SW_Plasma_Speed'], axis=1, inplace=True)"
   ]
  },
  {
   "cell_type": "code",
   "execution_count": 39,
   "metadata": {},
   "outputs": [
    {
     "data": {
      "text/html": [
       "<div>\n",
       "<style scoped>\n",
       "    .dataframe tbody tr th:only-of-type {\n",
       "        vertical-align: middle;\n",
       "    }\n",
       "\n",
       "    .dataframe tbody tr th {\n",
       "        vertical-align: top;\n",
       "    }\n",
       "\n",
       "    .dataframe thead th {\n",
       "        text-align: right;\n",
       "    }\n",
       "</style>\n",
       "<table border=\"1\" class=\"dataframe\">\n",
       "  <thead>\n",
       "    <tr style=\"text-align: right;\">\n",
       "      <th></th>\n",
       "      <th>datetime</th>\n",
       "      <th>scalar_b</th>\n",
       "      <th>bx</th>\n",
       "      <th>by</th>\n",
       "      <th>bz</th>\n",
       "      <th>sw_plasma_temp</th>\n",
       "      <th>sw_plasma_density</th>\n",
       "      <th>sw_plasma_speed</th>\n",
       "      <th>Kp</th>\n",
       "      <th>ap</th>\n",
       "      <th>f10_7</th>\n",
       "      <th>AE</th>\n",
       "      <th>Scalar_B</th>\n",
       "    </tr>\n",
       "  </thead>\n",
       "  <tbody>\n",
       "    <tr>\n",
       "      <th>0</th>\n",
       "      <td>2003-10-25 00:00:00</td>\n",
       "      <td>34.974384</td>\n",
       "      <td>3.464116</td>\n",
       "      <td>-2.937991</td>\n",
       "      <td>34.678173</td>\n",
       "      <td>1.202585e+06</td>\n",
       "      <td>112.022379</td>\n",
       "      <td>2154.923171</td>\n",
       "      <td>40</td>\n",
       "      <td>27</td>\n",
       "      <td>219.0</td>\n",
       "      <td>108</td>\n",
       "      <td>34.000000</td>\n",
       "    </tr>\n",
       "    <tr>\n",
       "      <th>1</th>\n",
       "      <td>2003-10-25 00:01:00</td>\n",
       "      <td>35.051192</td>\n",
       "      <td>3.946835</td>\n",
       "      <td>-3.002314</td>\n",
       "      <td>34.698626</td>\n",
       "      <td>1.003868e+06</td>\n",
       "      <td>126.871556</td>\n",
       "      <td>2125.002443</td>\n",
       "      <td>40</td>\n",
       "      <td>27</td>\n",
       "      <td>219.0</td>\n",
       "      <td>110</td>\n",
       "      <td>33.978333</td>\n",
       "    </tr>\n",
       "    <tr>\n",
       "      <th>2</th>\n",
       "      <td>2003-10-25 00:02:00</td>\n",
       "      <td>34.568801</td>\n",
       "      <td>3.396413</td>\n",
       "      <td>-3.051751</td>\n",
       "      <td>34.265919</td>\n",
       "      <td>1.282530e+06</td>\n",
       "      <td>140.483449</td>\n",
       "      <td>2079.241315</td>\n",
       "      <td>40</td>\n",
       "      <td>27</td>\n",
       "      <td>219.0</td>\n",
       "      <td>119</td>\n",
       "      <td>33.956667</td>\n",
       "    </tr>\n",
       "    <tr>\n",
       "      <th>3</th>\n",
       "      <td>2003-10-25 00:03:00</td>\n",
       "      <td>35.422035</td>\n",
       "      <td>3.929418</td>\n",
       "      <td>-3.252174</td>\n",
       "      <td>35.052869</td>\n",
       "      <td>1.331325e+06</td>\n",
       "      <td>131.625201</td>\n",
       "      <td>2137.216742</td>\n",
       "      <td>40</td>\n",
       "      <td>27</td>\n",
       "      <td>219.0</td>\n",
       "      <td>120</td>\n",
       "      <td>33.935000</td>\n",
       "    </tr>\n",
       "    <tr>\n",
       "      <th>4</th>\n",
       "      <td>2003-10-25 00:04:00</td>\n",
       "      <td>35.087936</td>\n",
       "      <td>3.797111</td>\n",
       "      <td>-3.371548</td>\n",
       "      <td>34.718552</td>\n",
       "      <td>1.209802e+06</td>\n",
       "      <td>141.060307</td>\n",
       "      <td>2307.138706</td>\n",
       "      <td>40</td>\n",
       "      <td>27</td>\n",
       "      <td>219.0</td>\n",
       "      <td>122</td>\n",
       "      <td>33.913333</td>\n",
       "    </tr>\n",
       "  </tbody>\n",
       "</table>\n",
       "</div>"
      ],
      "text/plain": [
       "             datetime   scalar_b        bx        by         bz  \\\n",
       "0 2003-10-25 00:00:00  34.974384  3.464116 -2.937991  34.678173   \n",
       "1 2003-10-25 00:01:00  35.051192  3.946835 -3.002314  34.698626   \n",
       "2 2003-10-25 00:02:00  34.568801  3.396413 -3.051751  34.265919   \n",
       "3 2003-10-25 00:03:00  35.422035  3.929418 -3.252174  35.052869   \n",
       "4 2003-10-25 00:04:00  35.087936  3.797111 -3.371548  34.718552   \n",
       "\n",
       "   sw_plasma_temp  sw_plasma_density  sw_plasma_speed  Kp  ap  f10_7   AE  \\\n",
       "0    1.202585e+06         112.022379      2154.923171  40  27  219.0  108   \n",
       "1    1.003868e+06         126.871556      2125.002443  40  27  219.0  110   \n",
       "2    1.282530e+06         140.483449      2079.241315  40  27  219.0  119   \n",
       "3    1.331325e+06         131.625201      2137.216742  40  27  219.0  120   \n",
       "4    1.209802e+06         141.060307      2307.138706  40  27  219.0  122   \n",
       "\n",
       "    Scalar_B  \n",
       "0  34.000000  \n",
       "1  33.978333  \n",
       "2  33.956667  \n",
       "3  33.935000  \n",
       "4  33.913333  "
      ]
     },
     "execution_count": 39,
     "metadata": {},
     "output_type": "execute_result"
    }
   ],
   "source": [
    "halloween_storm.head()"
   ]
  },
  {
   "cell_type": "code",
   "execution_count": 40,
   "metadata": {},
   "outputs": [
    {
     "data": {
      "text/plain": [
       "<matplotlib.legend.Legend at 0x7fc25508ab90>"
      ]
     },
     "execution_count": 40,
     "metadata": {},
     "output_type": "execute_result"
    },
    {
     "data": {
      "image/png": "[encoded data removed]",
      "text/plain": [
       "<Figure size 720x360 with 1 Axes>"
      ]
     },
     "metadata": {
      "needs_background": "light"
     },
     "output_type": "display_data"
    }
   ],
   "source": [
    "plt.figure(figsize=(10, 5))\n",
    "plt.plot(halloween_storm['datetime'], halloween_storm['sw_plasma_speed'],label = 'Plasma speed (km/s)')\n",
    "plt.xticks(rotation=45, fontsize=12)\n",
    "plt.yticks(fontsize=12)\n",
    "plt.title(\"Plasma speed during Halloween storm\", fontsize=15)\n",
    "plt.legend()"
   ]
  },
  {
   "cell_type": "markdown",
   "metadata": {},
   "source": [
    "We now generate two additional dataframes, one enhanced and one diminished version of the storm"
   ]
  },
  {
   "cell_type": "code",
   "execution_count": 41,
   "metadata": {},
   "outputs": [],
   "source": [
    "halloween_storm_plus = halloween_storm.copy()\n",
    "halloween_storm_minus = halloween_storm.copy()"
   ]
  },
  {
   "cell_type": "code",
   "execution_count": 42,
   "metadata": {},
   "outputs": [],
   "source": [
    "# Physical quantities we scale by a factor of 5\n",
    "scaling_factor = 5\n",
    "for key in ['bx', 'bx', 'bz', 'sw_plasma_temp', 'sw_plasma_density']:\n",
    "        halloween_storm_plus[key] = scaling_factor*halloween_storm_plus[key] - np.nanmean(scaling_factor*halloween_storm_plus[key])\n",
    "\n",
    "\n",
    "# These are indices, and do not the same ways as physical quantities.\n",
    "# We arbitrarily scale them by 1.25\n",
    "scaling_factor = 1.25\n",
    "for key in ['Kp', 'ap', 'f10_7', 'AE']:\n",
    "    halloween_storm_plus[key] = scaling_factor*halloween_storm_plus[key]"
   ]
  },
  {
   "cell_type": "code",
   "execution_count": 43,
   "metadata": {},
   "outputs": [],
   "source": [
    "# Physical quantities we scale by a factor of .5\n",
    "scaling_factor = .5\n",
    "for key in ['bx', 'bx', 'bz', 'sw_plasma_temp', 'sw_plasma_density']:\n",
    "        halloween_storm_minus[key] = scaling_factor*halloween_storm_minus[key] - np.nanmean(scaling_factor*halloween_storm_minus[key])\n",
    "\n",
    "\n",
    "# These are indices, and do not the same ways as physical quantities.\n",
    "# We arbitrarily scale them by 1.25\n",
    "scaling_factor = .75\n",
    "for key in ['Kp', 'ap', 'f10_7', 'AE']:\n",
    "    halloween_storm_minus[key] = scaling_factor*halloween_storm_minus[key]"
   ]
  },
  {
   "cell_type": "code",
   "execution_count": 44,
   "metadata": {},
   "outputs": [
    {
     "data": {
      "text/plain": [
       "<matplotlib.legend.Legend at 0x7fc25514ba60>"
      ]
     },
     "execution_count": 44,
     "metadata": {},
     "output_type": "execute_result"
    },
    {
     "data": {
      "image/png": "[encoded data removed]",
      "text/plain": [
       "<Figure size 720x360 with 1 Axes>"
      ]
     },
     "metadata": {
      "needs_background": "light"
     },
     "output_type": "display_data"
    }
   ],
   "source": [
    "plt.figure(figsize=(10, 5))\n",
    "plt.plot(halloween_storm['datetime'], halloween_storm['bz'],label = 'Orig')\n",
    "plt.plot(halloween_storm_plus['datetime'],halloween_storm_plus['bz'], label = 'Enhanced')\n",
    "plt.plot(halloween_storm_minus['datetime'], halloween_storm_minus['bz'], label = 'Diminished')\n",
    "plt.xticks(rotation=45)\n",
    "plt.title(\"Bz component of solar wind for Halloween storm\")\n",
    "plt.legend()"
   ]
  },
  {
   "cell_type": "markdown",
   "metadata": {},
   "source": [
    "Create netCDF files so that these datasets can be used"
   ]
  },
  {
   "cell_type": "code",
   "execution_count": 45,
   "metadata": {},
   "outputs": [],
   "source": [
    "xr = xarray.Dataset.from_dataframe(halloween_storm)\n",
    "xr['bx'].attrs={'units':'nT'}\n",
    "xr['by'].attrs={'units':'nT'}\n",
    "xr['bz'].attrs={'units':'nT'}\n",
    "xr['scalar_b'].attrs={'units':'nT'}\n",
    "xr['sw_plasma_temp'].attrs={'units':'K'}\n",
    "xr['sw_plasma_density'].attrs={'units':'cm^-3'}\n",
    "xr['ap'].attrs={'units':'nT'}\n",
    "xr['AE'].attrs={'units':'nT'}\n",
    "xr['f10_7'].attrs={'units':'sfu'}\n",
    "\n",
    "xr.to_netcdf(data_folder / 'halloween_storm_1min.nc')"
   ]
  },
  {
   "cell_type": "code",
   "execution_count": 46,
   "metadata": {},
   "outputs": [],
   "source": [
    "xr = xarray.Dataset.from_dataframe(halloween_storm_plus)\n",
    "xr['bx'].attrs={'units':'nT'}\n",
    "xr['by'].attrs={'units':'nT'}\n",
    "xr['bz'].attrs={'units':'nT'}\n",
    "xr['scalar_b'].attrs={'units':'nT'}\n",
    "xr['sw_plasma_temp'].attrs={'units':'K'}\n",
    "xr['sw_plasma_density'].attrs={'units':'cm^-3'}\n",
    "xr['ap'].attrs={'units':'nT'}\n",
    "xr['AE'].attrs={'units':'nT'}\n",
    "xr['f10_7'].attrs={'units':'sfu'}\n",
    "\n",
    "\n",
    "xr.to_netcdf(data_folder / 'halloween_storm_plus_1min.nc')"
   ]
  },
  {
   "cell_type": "code",
   "execution_count": 47,
   "metadata": {},
   "outputs": [],
   "source": [
    "xr = xarray.Dataset.from_dataframe(halloween_storm_minus)\n",
    "xr['bx'].attrs={'units':'nT'}\n",
    "xr['by'].attrs={'units':'nT'}\n",
    "xr['bz'].attrs={'units':'nT'}\n",
    "xr['scalar_b'].attrs={'units':'nT'}\n",
    "xr['sw_plasma_temp'].attrs={'units':'K'}\n",
    "xr['sw_plasma_density'].attrs={'units':'cm^-3'}\n",
    "xr['ap'].attrs={'units':'nT'}\n",
    "xr['AE'].attrs={'units':'nT'}\n",
    "xr['f10_7'].attrs={'units':'sfu'}\n",
    "\n",
    "\n",
    "xr.to_netcdf(data_folder / 'halloween_storm_minus_1min.nc')"
   ]
  }
 ],
 "metadata": {
  "interpreter": {
   "hash": "11cf427ed60813550d04719e2cd25fddd09bfe6efc07d905d21ecaf5bacfb0c9"
  },
  "kernelspec": {
   "display_name": "Python 3 (ipykernel)",
   "language": "python",
   "name": "python3"
  },
  "language_info": {
   "codemirror_mode": {
    "name": "ipython",
    "version": 3
   },
   "file_extension": ".py",
   "mimetype": "text/x-python",
   "name": "python",
   "nbconvert_exporter": "python",
   "pygments_lexer": "ipython3",
   "version": "3.10.1"
  }
 },
 "nbformat": 4,
 "nbformat_minor": 2
}
