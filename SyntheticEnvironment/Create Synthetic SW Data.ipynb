{
 "cells": [
  {
   "cell_type": "markdown",
   "metadata": {},
   "source": [
    "#### As part of the CHESS workshop, we will be simulating a space weather event. We model this event on the 2003 Halloween storm, and first obtain the relevant \"ground truth\" data for that time period"
   ]
  },
  {
   "cell_type": "code",
   "execution_count": 1,
   "metadata": {},
   "outputs": [],
   "source": [
    "from netCDF4 import Dataset\n",
    "import numpy as np\n",
    "import matplotlib.pyplot as plt\n",
    "import pandas as pd\n",
    "from pathlib import Path\n",
    "import datetime\n",
    "import xarray"
   ]
  },
  {
   "cell_type": "markdown",
   "metadata": {},
   "source": [
    "We begin with hourly-averaged ASCII data obtained from the [NASA OMNI database](https://omniweb.gsfc.nasa.gov/form/dx1.html)"
   ]
  },
  {
   "cell_type": "code",
   "execution_count": 2,
   "metadata": {},
   "outputs": [],
   "source": [
    "data_folder = Path(\"../data/synthetic_sw_data\")\n",
    "header_file = data_folder / \"omni_2003_header.txt\"\n",
    "data_file = data_folder / \"omni_2003.asc\""
   ]
  },
  {
   "cell_type": "code",
   "execution_count": 3,
   "metadata": {},
   "outputs": [
    {
     "name": "stdout",
     "output_type": "stream",
     "text": [
      "['YEAR', 'DOY', 'Hour', 'Scalar_B', 'BX', 'BY', 'BZ', 'SW_Plasma_Temperature', 'SW_Proton_Density', 'SW_Plasma_Speed', 'Kp', 'ap_index', 'f10.7_index', 'AE-index']\n"
     ]
    }
   ],
   "source": [
    "# Reader header info into a list\n",
    "header_info = []\n",
    "with open(header_file, 'r') as f:\n",
    "    lines = f.readlines()\n",
    "\n",
    "header_info = [x.strip().split()[1] for x in lines[4:]]\n",
    "print(header_info)"
   ]
  },
  {
   "cell_type": "code",
   "execution_count": 4,
   "metadata": {},
   "outputs": [],
   "source": [
    "# Read data into a dataframe and provide header as column names\n",
    "# Infer column structure by using all of the lines in the file\n",
    "df = pd.read_fwf(data_file, names=header_info, infer_nrows = 8760, index_col=False, index=False)"
   ]
  },
  {
   "cell_type": "code",
   "execution_count": 5,
   "metadata": {},
   "outputs": [
    {
     "data": {
      "text/html": [
       "<div>\n",
       "<style scoped>\n",
       "    .dataframe tbody tr th:only-of-type {\n",
       "        vertical-align: middle;\n",
       "    }\n",
       "\n",
       "    .dataframe tbody tr th {\n",
       "        vertical-align: top;\n",
       "    }\n",
       "\n",
       "    .dataframe thead th {\n",
       "        text-align: right;\n",
       "    }\n",
       "</style>\n",
       "<table border=\"1\" class=\"dataframe\">\n",
       "  <thead>\n",
       "    <tr style=\"text-align: right;\">\n",
       "      <th></th>\n",
       "      <th>YEAR</th>\n",
       "      <th>DOY</th>\n",
       "      <th>Hour</th>\n",
       "      <th>Scalar_B</th>\n",
       "      <th>BX</th>\n",
       "      <th>BY</th>\n",
       "      <th>BZ</th>\n",
       "      <th>SW_Plasma_Temperature</th>\n",
       "      <th>SW_Proton_Density</th>\n",
       "      <th>SW_Plasma_Speed</th>\n",
       "      <th>Kp</th>\n",
       "      <th>ap_index</th>\n",
       "      <th>f10.7_index</th>\n",
       "      <th>AE-index</th>\n",
       "    </tr>\n",
       "  </thead>\n",
       "  <tbody>\n",
       "    <tr>\n",
       "      <th>0</th>\n",
       "      <td>2003</td>\n",
       "      <td>1</td>\n",
       "      <td>0</td>\n",
       "      <td>6.5</td>\n",
       "      <td>-5.0</td>\n",
       "      <td>2.8</td>\n",
       "      <td>2.8</td>\n",
       "      <td>54536.0</td>\n",
       "      <td>4.8</td>\n",
       "      <td>407.0</td>\n",
       "      <td>10</td>\n",
       "      <td>4</td>\n",
       "      <td>111.2</td>\n",
       "      <td>25</td>\n",
       "    </tr>\n",
       "    <tr>\n",
       "      <th>1</th>\n",
       "      <td>2003</td>\n",
       "      <td>1</td>\n",
       "      <td>1</td>\n",
       "      <td>6.6</td>\n",
       "      <td>-0.1</td>\n",
       "      <td>6.2</td>\n",
       "      <td>1.2</td>\n",
       "      <td>59202.0</td>\n",
       "      <td>6.0</td>\n",
       "      <td>435.0</td>\n",
       "      <td>10</td>\n",
       "      <td>4</td>\n",
       "      <td>111.2</td>\n",
       "      <td>38</td>\n",
       "    </tr>\n",
       "    <tr>\n",
       "      <th>2</th>\n",
       "      <td>2003</td>\n",
       "      <td>1</td>\n",
       "      <td>2</td>\n",
       "      <td>6.9</td>\n",
       "      <td>-1.7</td>\n",
       "      <td>4.7</td>\n",
       "      <td>-2.6</td>\n",
       "      <td>52149.0</td>\n",
       "      <td>5.7</td>\n",
       "      <td>418.0</td>\n",
       "      <td>10</td>\n",
       "      <td>4</td>\n",
       "      <td>111.2</td>\n",
       "      <td>60</td>\n",
       "    </tr>\n",
       "    <tr>\n",
       "      <th>3</th>\n",
       "      <td>2003</td>\n",
       "      <td>1</td>\n",
       "      <td>3</td>\n",
       "      <td>6.8</td>\n",
       "      <td>1.9</td>\n",
       "      <td>5.8</td>\n",
       "      <td>0.6</td>\n",
       "      <td>37783.0</td>\n",
       "      <td>5.0</td>\n",
       "      <td>433.0</td>\n",
       "      <td>23</td>\n",
       "      <td>9</td>\n",
       "      <td>111.2</td>\n",
       "      <td>96</td>\n",
       "    </tr>\n",
       "    <tr>\n",
       "      <th>4</th>\n",
       "      <td>2003</td>\n",
       "      <td>1</td>\n",
       "      <td>4</td>\n",
       "      <td>7.0</td>\n",
       "      <td>2.0</td>\n",
       "      <td>6.3</td>\n",
       "      <td>2.1</td>\n",
       "      <td>42290.0</td>\n",
       "      <td>6.0</td>\n",
       "      <td>430.0</td>\n",
       "      <td>23</td>\n",
       "      <td>9</td>\n",
       "      <td>111.2</td>\n",
       "      <td>83</td>\n",
       "    </tr>\n",
       "  </tbody>\n",
       "</table>\n",
       "</div>"
      ],
      "text/plain": [
       "   YEAR  DOY  Hour  Scalar_B   BX   BY   BZ  SW_Plasma_Temperature  \\\n",
       "0  2003    1     0       6.5 -5.0  2.8  2.8                54536.0   \n",
       "1  2003    1     1       6.6 -0.1  6.2  1.2                59202.0   \n",
       "2  2003    1     2       6.9 -1.7  4.7 -2.6                52149.0   \n",
       "3  2003    1     3       6.8  1.9  5.8  0.6                37783.0   \n",
       "4  2003    1     4       7.0  2.0  6.3  2.1                42290.0   \n",
       "\n",
       "   SW_Proton_Density  SW_Plasma_Speed  Kp  ap_index  f10.7_index  AE-index  \n",
       "0                4.8            407.0  10         4        111.2        25  \n",
       "1                6.0            435.0  10         4        111.2        38  \n",
       "2                5.7            418.0  10         4        111.2        60  \n",
       "3                5.0            433.0  23         9        111.2        96  \n",
       "4                6.0            430.0  23         9        111.2        83  "
      ]
     },
     "execution_count": 5,
     "metadata": {},
     "output_type": "execute_result"
    }
   ],
   "source": [
    "df.head()"
   ]
  },
  {
   "cell_type": "code",
   "execution_count": 6,
   "metadata": {},
   "outputs": [],
   "source": [
    "# Introduce a datetime colum, and remove the year, DOY and hour columns\n",
    "df[\"datetime\"] = pd.to_datetime(df['YEAR'] * 100000 + 100*df['DOY']+df['Hour'], format='%Y%j%H')\n",
    "new_index = ['datetime'] + df.keys().tolist()[3:-1]\n",
    "df = df[new_index]"
   ]
  },
  {
   "cell_type": "code",
   "execution_count": 7,
   "metadata": {},
   "outputs": [
    {
     "data": {
      "text/html": [
       "<div>\n",
       "<style scoped>\n",
       "    .dataframe tbody tr th:only-of-type {\n",
       "        vertical-align: middle;\n",
       "    }\n",
       "\n",
       "    .dataframe tbody tr th {\n",
       "        vertical-align: top;\n",
       "    }\n",
       "\n",
       "    .dataframe thead th {\n",
       "        text-align: right;\n",
       "    }\n",
       "</style>\n",
       "<table border=\"1\" class=\"dataframe\">\n",
       "  <thead>\n",
       "    <tr style=\"text-align: right;\">\n",
       "      <th></th>\n",
       "      <th>datetime</th>\n",
       "      <th>Scalar_B</th>\n",
       "      <th>BX</th>\n",
       "      <th>BY</th>\n",
       "      <th>BZ</th>\n",
       "      <th>SW_Plasma_Temperature</th>\n",
       "      <th>SW_Proton_Density</th>\n",
       "      <th>SW_Plasma_Speed</th>\n",
       "      <th>Kp</th>\n",
       "      <th>ap_index</th>\n",
       "      <th>f10.7_index</th>\n",
       "      <th>AE-index</th>\n",
       "    </tr>\n",
       "  </thead>\n",
       "  <tbody>\n",
       "    <tr>\n",
       "      <th>0</th>\n",
       "      <td>2003-01-01 00:00:00</td>\n",
       "      <td>6.5</td>\n",
       "      <td>-5.0</td>\n",
       "      <td>2.8</td>\n",
       "      <td>2.8</td>\n",
       "      <td>54536.0</td>\n",
       "      <td>4.8</td>\n",
       "      <td>407.0</td>\n",
       "      <td>10</td>\n",
       "      <td>4</td>\n",
       "      <td>111.2</td>\n",
       "      <td>25</td>\n",
       "    </tr>\n",
       "    <tr>\n",
       "      <th>1</th>\n",
       "      <td>2003-01-01 01:00:00</td>\n",
       "      <td>6.6</td>\n",
       "      <td>-0.1</td>\n",
       "      <td>6.2</td>\n",
       "      <td>1.2</td>\n",
       "      <td>59202.0</td>\n",
       "      <td>6.0</td>\n",
       "      <td>435.0</td>\n",
       "      <td>10</td>\n",
       "      <td>4</td>\n",
       "      <td>111.2</td>\n",
       "      <td>38</td>\n",
       "    </tr>\n",
       "    <tr>\n",
       "      <th>2</th>\n",
       "      <td>2003-01-01 02:00:00</td>\n",
       "      <td>6.9</td>\n",
       "      <td>-1.7</td>\n",
       "      <td>4.7</td>\n",
       "      <td>-2.6</td>\n",
       "      <td>52149.0</td>\n",
       "      <td>5.7</td>\n",
       "      <td>418.0</td>\n",
       "      <td>10</td>\n",
       "      <td>4</td>\n",
       "      <td>111.2</td>\n",
       "      <td>60</td>\n",
       "    </tr>\n",
       "    <tr>\n",
       "      <th>3</th>\n",
       "      <td>2003-01-01 03:00:00</td>\n",
       "      <td>6.8</td>\n",
       "      <td>1.9</td>\n",
       "      <td>5.8</td>\n",
       "      <td>0.6</td>\n",
       "      <td>37783.0</td>\n",
       "      <td>5.0</td>\n",
       "      <td>433.0</td>\n",
       "      <td>23</td>\n",
       "      <td>9</td>\n",
       "      <td>111.2</td>\n",
       "      <td>96</td>\n",
       "    </tr>\n",
       "    <tr>\n",
       "      <th>4</th>\n",
       "      <td>2003-01-01 04:00:00</td>\n",
       "      <td>7.0</td>\n",
       "      <td>2.0</td>\n",
       "      <td>6.3</td>\n",
       "      <td>2.1</td>\n",
       "      <td>42290.0</td>\n",
       "      <td>6.0</td>\n",
       "      <td>430.0</td>\n",
       "      <td>23</td>\n",
       "      <td>9</td>\n",
       "      <td>111.2</td>\n",
       "      <td>83</td>\n",
       "    </tr>\n",
       "  </tbody>\n",
       "</table>\n",
       "</div>"
      ],
      "text/plain": [
       "             datetime  Scalar_B   BX   BY   BZ  SW_Plasma_Temperature  \\\n",
       "0 2003-01-01 00:00:00       6.5 -5.0  2.8  2.8                54536.0   \n",
       "1 2003-01-01 01:00:00       6.6 -0.1  6.2  1.2                59202.0   \n",
       "2 2003-01-01 02:00:00       6.9 -1.7  4.7 -2.6                52149.0   \n",
       "3 2003-01-01 03:00:00       6.8  1.9  5.8  0.6                37783.0   \n",
       "4 2003-01-01 04:00:00       7.0  2.0  6.3  2.1                42290.0   \n",
       "\n",
       "   SW_Proton_Density  SW_Plasma_Speed  Kp  ap_index  f10.7_index  AE-index  \n",
       "0                4.8            407.0  10         4        111.2        25  \n",
       "1                6.0            435.0  10         4        111.2        38  \n",
       "2                5.7            418.0  10         4        111.2        60  \n",
       "3                5.0            433.0  23         9        111.2        96  \n",
       "4                6.0            430.0  23         9        111.2        83  "
      ]
     },
     "execution_count": 7,
     "metadata": {},
     "output_type": "execute_result"
    }
   ],
   "source": [
    "df.head()"
   ]
  },
  {
   "cell_type": "markdown",
   "metadata": {},
   "source": [
    "As an example, we're interested in the 2003 Halloween storm period as our baseline"
   ]
  },
  {
   "cell_type": "code",
   "execution_count": 8,
   "metadata": {},
   "outputs": [
    {
     "name": "stderr",
     "output_type": "stream",
     "text": [
      "/tmp/ipykernel_145556/216516989.py:4: FutureWarning: Boolean inputs to the `inclusive` argument are deprecated infavour of `both` or `neither`.\n",
      "  halloween_storm = df[df['datetime'].between(start_date, end_date, inclusive=True)]\n"
     ]
    }
   ],
   "source": [
    "start_date = datetime.datetime(year=2003, month=10, day=25)\n",
    "end_date = datetime.datetime(year=2003, month=11, day=8)\n",
    "\n",
    "halloween_storm = df[df['datetime'].between(start_date, end_date, inclusive=True)]\n",
    "halloween_storm.reset_index(drop=True, inplace=True)"
   ]
  },
  {
   "cell_type": "code",
   "execution_count": 9,
   "metadata": {},
   "outputs": [
    {
     "data": {
      "text/html": [
       "<div>\n",
       "<style scoped>\n",
       "    .dataframe tbody tr th:only-of-type {\n",
       "        vertical-align: middle;\n",
       "    }\n",
       "\n",
       "    .dataframe tbody tr th {\n",
       "        vertical-align: top;\n",
       "    }\n",
       "\n",
       "    .dataframe thead th {\n",
       "        text-align: right;\n",
       "    }\n",
       "</style>\n",
       "<table border=\"1\" class=\"dataframe\">\n",
       "  <thead>\n",
       "    <tr style=\"text-align: right;\">\n",
       "      <th></th>\n",
       "      <th>datetime</th>\n",
       "      <th>Scalar_B</th>\n",
       "      <th>BX</th>\n",
       "      <th>BY</th>\n",
       "      <th>BZ</th>\n",
       "      <th>SW_Plasma_Temperature</th>\n",
       "      <th>SW_Proton_Density</th>\n",
       "      <th>SW_Plasma_Speed</th>\n",
       "      <th>Kp</th>\n",
       "      <th>ap_index</th>\n",
       "      <th>f10.7_index</th>\n",
       "      <th>AE-index</th>\n",
       "    </tr>\n",
       "  </thead>\n",
       "  <tbody>\n",
       "    <tr>\n",
       "      <th>0</th>\n",
       "      <td>2003-10-25 00:00:00</td>\n",
       "      <td>34.0</td>\n",
       "      <td>1.9</td>\n",
       "      <td>0.6</td>\n",
       "      <td>33.9</td>\n",
       "      <td>15624.0</td>\n",
       "      <td>5.8</td>\n",
       "      <td>571.0</td>\n",
       "      <td>40</td>\n",
       "      <td>27</td>\n",
       "      <td>219.0</td>\n",
       "      <td>124</td>\n",
       "    </tr>\n",
       "    <tr>\n",
       "      <th>1</th>\n",
       "      <td>2003-10-25 01:00:00</td>\n",
       "      <td>32.7</td>\n",
       "      <td>-0.6</td>\n",
       "      <td>-7.3</td>\n",
       "      <td>30.9</td>\n",
       "      <td>44170.0</td>\n",
       "      <td>9.6</td>\n",
       "      <td>577.0</td>\n",
       "      <td>40</td>\n",
       "      <td>27</td>\n",
       "      <td>219.0</td>\n",
       "      <td>250</td>\n",
       "    </tr>\n",
       "    <tr>\n",
       "      <th>2</th>\n",
       "      <td>2003-10-25 02:00:00</td>\n",
       "      <td>18.8</td>\n",
       "      <td>-2.0</td>\n",
       "      <td>-12.2</td>\n",
       "      <td>9.5</td>\n",
       "      <td>284291.0</td>\n",
       "      <td>28.6</td>\n",
       "      <td>565.0</td>\n",
       "      <td>40</td>\n",
       "      <td>27</td>\n",
       "      <td>219.0</td>\n",
       "      <td>269</td>\n",
       "    </tr>\n",
       "    <tr>\n",
       "      <th>3</th>\n",
       "      <td>2003-10-25 03:00:00</td>\n",
       "      <td>14.7</td>\n",
       "      <td>-8.5</td>\n",
       "      <td>3.3</td>\n",
       "      <td>8.4</td>\n",
       "      <td>303546.0</td>\n",
       "      <td>29.8</td>\n",
       "      <td>541.0</td>\n",
       "      <td>27</td>\n",
       "      <td>12</td>\n",
       "      <td>219.0</td>\n",
       "      <td>91</td>\n",
       "    </tr>\n",
       "    <tr>\n",
       "      <th>4</th>\n",
       "      <td>2003-10-25 04:00:00</td>\n",
       "      <td>14.2</td>\n",
       "      <td>-3.3</td>\n",
       "      <td>-8.5</td>\n",
       "      <td>8.5</td>\n",
       "      <td>349135.0</td>\n",
       "      <td>19.4</td>\n",
       "      <td>527.0</td>\n",
       "      <td>27</td>\n",
       "      <td>12</td>\n",
       "      <td>219.0</td>\n",
       "      <td>99</td>\n",
       "    </tr>\n",
       "  </tbody>\n",
       "</table>\n",
       "</div>"
      ],
      "text/plain": [
       "             datetime  Scalar_B   BX    BY    BZ  SW_Plasma_Temperature  \\\n",
       "0 2003-10-25 00:00:00      34.0  1.9   0.6  33.9                15624.0   \n",
       "1 2003-10-25 01:00:00      32.7 -0.6  -7.3  30.9                44170.0   \n",
       "2 2003-10-25 02:00:00      18.8 -2.0 -12.2   9.5               284291.0   \n",
       "3 2003-10-25 03:00:00      14.7 -8.5   3.3   8.4               303546.0   \n",
       "4 2003-10-25 04:00:00      14.2 -3.3  -8.5   8.5               349135.0   \n",
       "\n",
       "   SW_Proton_Density  SW_Plasma_Speed  Kp  ap_index  f10.7_index  AE-index  \n",
       "0                5.8            571.0  40        27        219.0       124  \n",
       "1                9.6            577.0  40        27        219.0       250  \n",
       "2               28.6            565.0  40        27        219.0       269  \n",
       "3               29.8            541.0  27        12        219.0        91  \n",
       "4               19.4            527.0  27        12        219.0        99  "
      ]
     },
     "execution_count": 9,
     "metadata": {},
     "output_type": "execute_result"
    }
   ],
   "source": [
    "halloween_storm.head()"
   ]
  },
  {
   "cell_type": "code",
   "execution_count": 10,
   "metadata": {},
   "outputs": [],
   "source": [
    "halloween_storm_plus = halloween_storm.copy()\n",
    "halloween_storm_minus = halloween_storm.copy()"
   ]
  },
  {
   "cell_type": "markdown",
   "metadata": {},
   "source": [
    "We now generate two additional dataframes, one enhanced and one diminished version of the storm"
   ]
  },
  {
   "cell_type": "code",
   "execution_count": 11,
   "metadata": {},
   "outputs": [],
   "source": [
    "# Physical quantities we scale by a factor of 5\n",
    "scaling_factor = 5\n",
    "for key in ['BX', 'BY', 'BZ', 'SW_Plasma_Temperature', 'SW_Proton_Density']:\n",
    "        halloween_storm_plus[key] = scaling_factor*halloween_storm_plus[key] - np.nanmean(scaling_factor*halloween_storm_plus[key])\n",
    "\n",
    "halloween_storm_plus['Scalar_B'] = np.sqrt(halloween_storm_plus['BX']**2 + halloween_storm_plus['BY']**2 + halloween_storm_plus['BZ']**2)        \n",
    "\n",
    "# These are indices, and do not the same ways as physical quantities.\n",
    "# We arbitrarily scale them by 1.25\n",
    "scaling_factor = 1.25\n",
    "for key in ['Kp', 'ap_index', 'f10.7_index', 'AE-index']:\n",
    "    halloween_storm_plus[key] = scaling_factor*halloween_storm_plus[key]\n",
    "    \n",
    "\n"
   ]
  },
  {
   "cell_type": "code",
   "execution_count": 12,
   "metadata": {},
   "outputs": [],
   "source": [
    "# Physical quantities we scale by a factor of 5\n",
    "scaling_factor = .5\n",
    "for key in ['BX', 'BY', 'BZ', 'SW_Plasma_Temperature', 'SW_Proton_Density']:\n",
    "        halloween_storm_minus[key] = scaling_factor*halloween_storm_minus[key] - np.nanmean(scaling_factor*halloween_storm_minus[key])\n",
    "\n",
    "halloween_storm_minus['Scalar_B'] = np.sqrt(halloween_storm_minus['BX']**2 + halloween_storm_minus['BY']**2 + halloween_storm_minus['BZ']**2)        \n",
    "\n",
    "# These are indices, and do not the same ways as physical quantities.\n",
    "# We arbitrarily scale them by 1.25\n",
    "scaling_factor = .75\n",
    "for key in ['Kp', 'ap_index', 'f10.7_index', 'AE-index']:\n",
    "    halloween_storm_minus[key] = scaling_factor*halloween_storm_minus[key]"
   ]
  },
  {
   "cell_type": "code",
   "execution_count": 13,
   "metadata": {},
   "outputs": [
    {
     "data": {
      "text/plain": [
       "<matplotlib.legend.Legend at 0x7f5eb3260af0>"
      ]
     },
     "execution_count": 13,
     "metadata": {},
     "output_type": "execute_result"
    },
    {
     "data": {
      "image/png": "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\n",
      "text/plain": [
       "<Figure size 720x360 with 1 Axes>"
      ]
     },
     "metadata": {
      "needs_background": "light"
     },
     "output_type": "display_data"
    }
   ],
   "source": [
    "plt.figure(figsize=(10, 5))\n",
    "plt.plot(halloween_storm['datetime'], halloween_storm['BZ'],label = 'Orig')\n",
    "plt.plot(halloween_storm_plus['datetime'],halloween_storm_plus['BZ'], label = 'Enhanced')\n",
    "plt.plot(halloween_storm_minus['datetime'], halloween_storm_minus['BZ'], label = 'Diminished')\n",
    "plt.xticks(rotation=45)\n",
    "plt.title(\"Bz component of solar wind for Halloween storm\")\n",
    "plt.legend()"
   ]
  },
  {
   "cell_type": "markdown",
   "metadata": {},
   "source": [
    "Create netCDF files so that these datasets can be used"
   ]
  },
  {
   "cell_type": "code",
   "execution_count": 14,
   "metadata": {},
   "outputs": [],
   "source": [
    "xr = xarray.Dataset.from_dataframe(halloween_storm)\n",
    "xr['BX'].attrs={'units':'nT'}\n",
    "xr['BY'].attrs={'units':'nT'}\n",
    "xr['BZ'].attrs={'units':'nT'}\n",
    "xr['Scalar_B'].attrs={'units':'nT'}\n",
    "xr['SW_Plasma_Temperature'].attrs={'units':'K'}\n",
    "xr['SW_Proton_Density'].attrs={'units':'cm^-3'}\n",
    "xr['ap_index'].attrs={'units':'nT'}\n",
    "xr['AE-index'].attrs={'units':'nT'}\n",
    "\n",
    "\n",
    "xr.to_netcdf(data_folder / 'halloween_storm.nc')"
   ]
  },
  {
   "cell_type": "code",
   "execution_count": 15,
   "metadata": {},
   "outputs": [],
   "source": [
    "xr = xarray.Dataset.from_dataframe(halloween_storm_plus)\n",
    "xr['BX'].attrs={'units':'nT'}\n",
    "xr['BY'].attrs={'units':'nT'}\n",
    "xr['BZ'].attrs={'units':'nT'}\n",
    "xr['Scalar_B'].attrs={'units':'nT'}\n",
    "xr['SW_Plasma_Temperature'].attrs={'units':'K'}\n",
    "xr['SW_Proton_Density'].attrs={'units':'cm^-3'}\n",
    "xr['ap_index'].attrs={'units':'nT'}\n",
    "xr['AE-index'].attrs={'units':'nT'}\n",
    "\n",
    "\n",
    "xr.to_netcdf(data_folder / 'halloween_storm_plus.nc')"
   ]
  },
  {
   "cell_type": "code",
   "execution_count": 16,
   "metadata": {},
   "outputs": [],
   "source": [
    "xr = xarray.Dataset.from_dataframe(halloween_storm_minus)\n",
    "xr['BX'].attrs={'units':'nT'}\n",
    "xr['BY'].attrs={'units':'nT'}\n",
    "xr['BZ'].attrs={'units':'nT'}\n",
    "xr['Scalar_B'].attrs={'units':'nT'}\n",
    "xr['SW_Plasma_Temperature'].attrs={'units':'K'}\n",
    "xr['SW_Proton_Density'].attrs={'units':'cm^-3'}\n",
    "xr['ap_index'].attrs={'units':'nT'}\n",
    "xr['AE-index'].attrs={'units':'nT'}\n",
    "\n",
    "\n",
    "xr.to_netcdf(data_folder / 'halloween_storm_minus.nc')"
   ]
  }
 ],
 "metadata": {
  "interpreter": {
   "hash": "11cf427ed60813550d04719e2cd25fddd09bfe6efc07d905d21ecaf5bacfb0c9"
  },
  "kernelspec": {
<<<<<<< HEAD
   "display_name": "Python 3 (ipykernel)",
=======
   "display_name": "Python 3",
>>>>>>> 790e24d4d98484cd6e19c692bbc6f2f55a540348
   "language": "python",
   "name": "python3"
  },
  "language_info": {
   "codemirror_mode": {
    "name": "ipython",
    "version": 3
   },
   "file_extension": ".py",
   "mimetype": "text/x-python",
   "name": "python",
   "nbconvert_exporter": "python",
   "pygments_lexer": "ipython3",
   "version": "3.9.2"
  }
 },
 "nbformat": 4,
 "nbformat_minor": 2
}
